{
 "cells": [
  {
   "cell_type": "markdown",
   "id": "48ac71f7-61fc-4dc5-9d43-8bece4f5e9dd",
   "metadata": {},
   "source": [
    "# Setting up the environment and importing the data"
   ]
  },
  {
   "cell_type": "code",
   "execution_count": 3,
   "id": "b83d5ca1-fe7a-42de-a98a-f9e8d3f8bcff",
   "metadata": {},
   "outputs": [
    {
     "name": "stderr",
     "output_type": "stream",
     "text": [
      "[nltk_data] Downloading package stopwords to\n",
      "[nltk_data]     /Users/jasinchow/nltk_data...\n",
      "[nltk_data]   Package stopwords is already up-to-date!\n",
      "[nltk_data] Downloading package punkt to /Users/jasinchow/nltk_data...\n",
      "[nltk_data]   Package punkt is already up-to-date!\n"
     ]
    }
   ],
   "source": [
    "import numpy as np\n",
    "import pandas as pd\n",
    "from sklearn.model_selection import train_test_split\n",
    "from sklearn.metrics import accuracy_score, f1_score, recall_score, roc_auc_score\n",
    "import re\n",
    "import tensorflow as tf\n",
    "from tensorflow.keras.layers import Embedding\n",
    "from tensorflow.keras.preprocessing.sequence import pad_sequences\n",
    "from tensorflow.keras.models import Sequential\n",
    "from tensorflow.keras.layers import LSTM\n",
    "from tensorflow.keras.layers import Dense\n",
    "import nltk\n",
    "import re\n",
    "nltk.download('stopwords')\n",
    "nltk.download('punkt')\n",
    "train_data = pd.read_csv(\"train-balanced-sarcasm.csv\")"
   ]
  },
  {
   "cell_type": "code",
   "execution_count": 4,
   "id": "c8b86cc5-fddb-447d-8c55-678cfd655dbb",
   "metadata": {},
   "outputs": [
    {
     "data": {
      "text/html": [
       "<div>\n",
       "<style scoped>\n",
       "    .dataframe tbody tr th:only-of-type {\n",
       "        vertical-align: middle;\n",
       "    }\n",
       "\n",
       "    .dataframe tbody tr th {\n",
       "        vertical-align: top;\n",
       "    }\n",
       "\n",
       "    .dataframe thead th {\n",
       "        text-align: right;\n",
       "    }\n",
       "</style>\n",
       "<table border=\"1\" class=\"dataframe\">\n",
       "  <thead>\n",
       "    <tr style=\"text-align: right;\">\n",
       "      <th></th>\n",
       "      <th>label</th>\n",
       "      <th>comment</th>\n",
       "      <th>author</th>\n",
       "      <th>subreddit</th>\n",
       "      <th>score</th>\n",
       "      <th>ups</th>\n",
       "      <th>downs</th>\n",
       "      <th>date</th>\n",
       "      <th>created_utc</th>\n",
       "      <th>parent_comment</th>\n",
       "    </tr>\n",
       "  </thead>\n",
       "  <tbody>\n",
       "    <tr>\n",
       "      <th>0</th>\n",
       "      <td>0</td>\n",
       "      <td>NC and NH.</td>\n",
       "      <td>Trumpbart</td>\n",
       "      <td>politics</td>\n",
       "      <td>2</td>\n",
       "      <td>-1</td>\n",
       "      <td>-1</td>\n",
       "      <td>2016-10</td>\n",
       "      <td>2016-10-16 23:55:23</td>\n",
       "      <td>Yeah, I get that argument. At this point, I'd ...</td>\n",
       "    </tr>\n",
       "    <tr>\n",
       "      <th>1</th>\n",
       "      <td>0</td>\n",
       "      <td>You do know west teams play against west teams...</td>\n",
       "      <td>Shbshb906</td>\n",
       "      <td>nba</td>\n",
       "      <td>-4</td>\n",
       "      <td>-1</td>\n",
       "      <td>-1</td>\n",
       "      <td>2016-11</td>\n",
       "      <td>2016-11-01 00:24:10</td>\n",
       "      <td>The blazers and Mavericks (The wests 5 and 6 s...</td>\n",
       "    </tr>\n",
       "    <tr>\n",
       "      <th>2</th>\n",
       "      <td>0</td>\n",
       "      <td>They were underdogs earlier today, but since G...</td>\n",
       "      <td>Creepeth</td>\n",
       "      <td>nfl</td>\n",
       "      <td>3</td>\n",
       "      <td>3</td>\n",
       "      <td>0</td>\n",
       "      <td>2016-09</td>\n",
       "      <td>2016-09-22 21:45:37</td>\n",
       "      <td>They're favored to win.</td>\n",
       "    </tr>\n",
       "    <tr>\n",
       "      <th>3</th>\n",
       "      <td>0</td>\n",
       "      <td>This meme isn't funny none of the \"new york ni...</td>\n",
       "      <td>icebrotha</td>\n",
       "      <td>BlackPeopleTwitter</td>\n",
       "      <td>-8</td>\n",
       "      <td>-1</td>\n",
       "      <td>-1</td>\n",
       "      <td>2016-10</td>\n",
       "      <td>2016-10-18 21:03:47</td>\n",
       "      <td>deadass don't kill my buzz</td>\n",
       "    </tr>\n",
       "    <tr>\n",
       "      <th>4</th>\n",
       "      <td>0</td>\n",
       "      <td>I could use one of those tools.</td>\n",
       "      <td>cush2push</td>\n",
       "      <td>MaddenUltimateTeam</td>\n",
       "      <td>6</td>\n",
       "      <td>-1</td>\n",
       "      <td>-1</td>\n",
       "      <td>2016-12</td>\n",
       "      <td>2016-12-30 17:00:13</td>\n",
       "      <td>Yep can confirm I saw the tool they use for th...</td>\n",
       "    </tr>\n",
       "  </tbody>\n",
       "</table>\n",
       "</div>"
      ],
      "text/plain": [
       "   label                                            comment     author  \\\n",
       "0      0                                         NC and NH.  Trumpbart   \n",
       "1      0  You do know west teams play against west teams...  Shbshb906   \n",
       "2      0  They were underdogs earlier today, but since G...   Creepeth   \n",
       "3      0  This meme isn't funny none of the \"new york ni...  icebrotha   \n",
       "4      0                    I could use one of those tools.  cush2push   \n",
       "\n",
       "            subreddit  score  ups  downs     date          created_utc  \\\n",
       "0            politics      2   -1     -1  2016-10  2016-10-16 23:55:23   \n",
       "1                 nba     -4   -1     -1  2016-11  2016-11-01 00:24:10   \n",
       "2                 nfl      3    3      0  2016-09  2016-09-22 21:45:37   \n",
       "3  BlackPeopleTwitter     -8   -1     -1  2016-10  2016-10-18 21:03:47   \n",
       "4  MaddenUltimateTeam      6   -1     -1  2016-12  2016-12-30 17:00:13   \n",
       "\n",
       "                                      parent_comment  \n",
       "0  Yeah, I get that argument. At this point, I'd ...  \n",
       "1  The blazers and Mavericks (The wests 5 and 6 s...  \n",
       "2                            They're favored to win.  \n",
       "3                         deadass don't kill my buzz  \n",
       "4  Yep can confirm I saw the tool they use for th...  "
      ]
     },
     "execution_count": 4,
     "metadata": {},
     "output_type": "execute_result"
    }
   ],
   "source": [
    "train_data.head()"
   ]
  },
  {
   "cell_type": "code",
   "execution_count": 5,
   "id": "8e7ca9ba-4874-4ce8-9227-e77e1159dded",
   "metadata": {},
   "outputs": [
    {
     "data": {
      "text/plain": [
       "1010826"
      ]
     },
     "execution_count": 5,
     "metadata": {},
     "output_type": "execute_result"
    }
   ],
   "source": [
    "len(train_data)"
   ]
  },
  {
   "cell_type": "markdown",
   "id": "24a292c6-10fb-4728-b723-c1da9c3ecfd2",
   "metadata": {},
   "source": [
    "# Data Preprocessing"
   ]
  },
  {
   "cell_type": "markdown",
   "id": "9196eae1-57b5-4bf9-bf3f-b79f35af264a",
   "metadata": {},
   "source": [
    "## Cleaning data"
   ]
  },
  {
   "cell_type": "markdown",
   "id": "19cf7edc-5d3b-41db-a19e-6eeb87030dab",
   "metadata": {},
   "source": [
    "Remove duplicates"
   ]
  },
  {
   "cell_type": "code",
   "execution_count": 6,
   "id": "88d86f95-3b7f-4739-9cf3-4ef739f05e5a",
   "metadata": {},
   "outputs": [
    {
     "data": {
      "text/plain": [
       "0    505413\n",
       "1    505413\n",
       "Name: label, dtype: int64"
      ]
     },
     "execution_count": 6,
     "metadata": {},
     "output_type": "execute_result"
    }
   ],
   "source": [
    "train_data['label'].value_counts()"
   ]
  },
  {
   "cell_type": "code",
   "execution_count": 7,
   "id": "69c02865-5990-4f50-bf6a-2fcc4d95381a",
   "metadata": {},
   "outputs": [],
   "source": [
    "train_data = train_data.drop_duplicates()"
   ]
  },
  {
   "cell_type": "markdown",
   "id": "dca1f774-c037-485c-b488-23098ba1951c",
   "metadata": {},
   "source": [
    "Remove NAs"
   ]
  },
  {
   "cell_type": "code",
   "execution_count": 8,
   "id": "9bf76fe8-a59d-478d-9ec4-6be6ddc9b779",
   "metadata": {},
   "outputs": [],
   "source": [
    "train_data = train_data.dropna()\n",
    "train_data = train_data.reset_index(drop = True)"
   ]
  },
  {
   "cell_type": "code",
   "execution_count": 9,
   "id": "8501434e-9727-433e-991c-8470aaff4e2b",
   "metadata": {},
   "outputs": [],
   "source": [
    "X = train_data['comment']\n",
    "y = train_data['label']"
   ]
  },
  {
   "cell_type": "markdown",
   "id": "5abf3bc3-8bdf-4019-a7e2-89cc3fa0e36e",
   "metadata": {},
   "source": [
    "# 1st LSTM, Basic"
   ]
  },
  {
   "cell_type": "markdown",
   "id": "459935a1-2b44-4918-9ce3-c014865c6f5e",
   "metadata": {},
   "source": [
    "## Tokenizing comments"
   ]
  },
  {
   "cell_type": "code",
   "execution_count": 40,
   "id": "9320ddf9-23b6-42b0-bd9f-7d7ac6fef779",
   "metadata": {},
   "outputs": [
    {
     "name": "stdout",
     "output_type": "stream",
     "text": [
      "unique tokens -  180583\n",
      "vocab size - 180584\n"
     ]
    }
   ],
   "source": [
    "from tensorflow.python.keras.preprocessing.text import Tokenizer\n",
    "tokenizer_obj = Tokenizer()\n",
    "\n",
    "tokenizer_obj.fit_on_texts(X)\n",
    "sequences = tokenizer_obj.texts_to_sequences(X)\n",
    "\n",
    "word_index = tokenizer_obj.word_index\n",
    "print(\"unique tokens - \",len(word_index))\n",
    "vocab_size = len(tokenizer_obj.word_index) + 1\n",
    "print('vocab size -', vocab_size)\n",
    "\n",
    "#first set maximum sentence length to be 25. Can be tweaked\n",
    "X_final = pad_sequences(sequences, padding = 'post', maxlen = 25)"
   ]
  },
  {
   "cell_type": "markdown",
   "id": "15c6c0b6-3b91-49ac-aae8-5308c08674a2",
   "metadata": {},
   "source": [
    "## Train-Valid-Test split (Manually)"
   ]
  },
  {
   "cell_type": "code",
   "execution_count": 41,
   "id": "75b59d3e-f975-4aa7-9d79-b7d745ebf8d5",
   "metadata": {},
   "outputs": [],
   "source": [
    "X_final=np.array(X_final)\n",
    "y_final=np.array(y)"
   ]
  },
  {
   "cell_type": "code",
   "execution_count": 42,
   "id": "f3522578-7a7a-48bf-ac0a-fe82ab458656",
   "metadata": {},
   "outputs": [],
   "source": [
    "train_index = round(len(X_final) * 3/5)\n",
    "test_index = round(len(X_final) * 9/10)\n",
    "X_train = X_final[0:train_index]\n",
    "X_valid = X_final[train_index:test_index]\n",
    "X_test = X_final[test_index:]\n",
    "\n",
    "y_train = y_final[0:train_index]\n",
    "y_valid = y_final[train_index:test_index]\n",
    "y_test = y_final[test_index:]"
   ]
  },
  {
   "cell_type": "markdown",
   "id": "acc1b751-c2c8-43c2-b36d-ca741f5571db",
   "metadata": {},
   "source": [
    "## Initializaion"
   ]
  },
  {
   "cell_type": "code",
   "execution_count": 43,
   "id": "d49a9768-791c-4406-8094-f66ab9082097",
   "metadata": {},
   "outputs": [
    {
     "name": "stdout",
     "output_type": "stream",
     "text": [
      "Model: \"sequential_2\"\n",
      "_________________________________________________________________\n",
      "Layer (type)                 Output Shape              Param #   \n",
      "=================================================================\n",
      "embedding_1 (Embedding)      (None, 25, 100)           18058400  \n",
      "_________________________________________________________________\n",
      "lstm_2 (LSTM)                (None, 100)               80400     \n",
      "_________________________________________________________________\n",
      "dense_4 (Dense)              (None, 1)                 101       \n",
      "=================================================================\n",
      "Total params: 18,138,901\n",
      "Trainable params: 18,138,901\n",
      "Non-trainable params: 0\n",
      "_________________________________________________________________\n"
     ]
    }
   ],
   "source": [
    "base_model = Sequential()\n",
    "base_model.add(Embedding(180584,100,input_length=25))\n",
    "base_model.add(LSTM(100))\n",
    "base_model.add(Dense(1,activation = 'sigmoid')) #last layer 1 node\n",
    "base_model.compile(loss = 'binary_crossentropy',optimizer = 'adam',metrics=['accuracy']) #binary cross entropy since its classification problem\n",
    "#base_model.build(X_final.shape)\n",
    "base_model.summary()"
   ]
  },
  {
   "cell_type": "markdown",
   "id": "1df9010c-d265-44a4-89bc-c8326bdcdefc",
   "metadata": {},
   "source": [
    "## Training"
   ]
  },
  {
   "cell_type": "code",
   "execution_count": 44,
   "id": "fdc5653d-9562-4adf-a740-84b8f2a515f4",
   "metadata": {},
   "outputs": [
    {
     "name": "stdout",
     "output_type": "stream",
     "text": [
      "Epoch 1/25\n",
      "4738/4738 [==============================] - 1151s 243ms/step - loss: 0.5773 - accuracy: 0.6958 - val_loss: 0.5579 - val_accuracy: 0.7102\n",
      "Epoch 2/25\n",
      "4738/4738 [==============================] - 1302s 275ms/step - loss: 0.5121 - accuracy: 0.7451 - val_loss: 0.5678 - val_accuracy: 0.7114\n",
      "Epoch 3/25\n",
      "4738/4738 [==============================] - 1146s 242ms/step - loss: 0.4510 - accuracy: 0.7847 - val_loss: 0.6072 - val_accuracy: 0.7063\n",
      "Epoch 4/25\n",
      "4738/4738 [==============================] - 1063s 224ms/step - loss: 0.3885 - accuracy: 0.8187 - val_loss: 0.6503 - val_accuracy: 0.6963\n",
      "Epoch 5/25\n",
      "4738/4738 [==============================] - 1298s 274ms/step - loss: 0.3342 - accuracy: 0.8444 - val_loss: 0.7172 - val_accuracy: 0.6928\n",
      "Epoch 6/25\n",
      "4738/4738 [==============================] - 1208s 255ms/step - loss: 0.2924 - accuracy: 0.8642 - val_loss: 0.8289 - val_accuracy: 0.6866\n",
      "Epoch 7/25\n",
      "4738/4738 [==============================] - 1232s 260ms/step - loss: 0.2611 - accuracy: 0.8796 - val_loss: 0.9490 - val_accuracy: 0.6847\n",
      "Epoch 8/25\n",
      "4738/4738 [==============================] - 1130s 239ms/step - loss: 0.2353 - accuracy: 0.8918 - val_loss: 0.9827 - val_accuracy: 0.6838\n",
      "Epoch 9/25\n",
      "4738/4738 [==============================] - 1168s 246ms/step - loss: 0.2145 - accuracy: 0.9013 - val_loss: 1.1538 - val_accuracy: 0.6815\n",
      "Epoch 10/25\n",
      "4738/4738 [==============================] - 1192s 252ms/step - loss: 0.1961 - accuracy: 0.9108 - val_loss: 1.1874 - val_accuracy: 0.6781\n",
      "Epoch 11/25\n",
      "4738/4738 [==============================] - 1166s 246ms/step - loss: 0.1804 - accuracy: 0.9182 - val_loss: 1.3040 - val_accuracy: 0.6783\n",
      "Epoch 12/25\n",
      "4738/4738 [==============================] - 1077s 227ms/step - loss: 0.1667 - accuracy: 0.9249 - val_loss: 1.4089 - val_accuracy: 0.6787\n",
      "Epoch 13/25\n",
      "4738/4738 [==============================] - 1112s 235ms/step - loss: 0.1550 - accuracy: 0.9305 - val_loss: 1.4314 - val_accuracy: 0.6739\n",
      "Epoch 14/25\n",
      "4738/4738 [==============================] - 1101s 232ms/step - loss: 0.1445 - accuracy: 0.9352 - val_loss: 1.4862 - val_accuracy: 0.6745\n",
      "Epoch 15/25\n",
      "4738/4738 [==============================] - 1039s 219ms/step - loss: 0.1351 - accuracy: 0.9395 - val_loss: 1.5395 - val_accuracy: 0.6716\n",
      "Epoch 16/25\n",
      "4738/4738 [==============================] - 1042s 220ms/step - loss: 0.1266 - accuracy: 0.9434 - val_loss: 1.5648 - val_accuracy: 0.6665\n",
      "Epoch 17/25\n",
      "4738/4738 [==============================] - 1046s 221ms/step - loss: 0.1194 - accuracy: 0.9466 - val_loss: 1.6819 - val_accuracy: 0.6695\n",
      "Epoch 18/25\n",
      "4738/4738 [==============================] - 1036s 219ms/step - loss: 0.1127 - accuracy: 0.9500 - val_loss: 1.7510 - val_accuracy: 0.6714\n",
      "Epoch 19/25\n",
      "4738/4738 [==============================] - 1042s 220ms/step - loss: 0.1063 - accuracy: 0.9528 - val_loss: 1.7428 - val_accuracy: 0.6711\n",
      "Epoch 20/25\n",
      "4738/4738 [==============================] - 1049s 221ms/step - loss: 0.1016 - accuracy: 0.9552 - val_loss: 1.7579 - val_accuracy: 0.6726\n",
      "Epoch 21/25\n",
      "4738/4738 [==============================] - 1040s 220ms/step - loss: 0.0968 - accuracy: 0.9573 - val_loss: 1.8863 - val_accuracy: 0.6714\n",
      "Epoch 22/25\n",
      "4738/4738 [==============================] - 1039s 219ms/step - loss: 0.0921 - accuracy: 0.9596 - val_loss: 1.9047 - val_accuracy: 0.6682\n",
      "Epoch 23/25\n",
      "4738/4738 [==============================] - 1045s 220ms/step - loss: 0.0886 - accuracy: 0.9612 - val_loss: 1.8785 - val_accuracy: 0.6682\n",
      "Epoch 24/25\n",
      "4738/4738 [==============================] - 1047s 221ms/step - loss: 0.0849 - accuracy: 0.9628 - val_loss: 1.8415 - val_accuracy: 0.6672\n",
      "Epoch 25/25\n",
      "4738/4738 [==============================] - 1041s 220ms/step - loss: 0.0816 - accuracy: 0.9644 - val_loss: 1.9845 - val_accuracy: 0.6640\n"
     ]
    },
    {
     "data": {
      "text/plain": [
       "<keras.callbacks.History at 0x7ff498b1de50>"
      ]
     },
     "execution_count": 44,
     "metadata": {},
     "output_type": "execute_result"
    }
   ],
   "source": [
    "base_model.fit(X_train,y_train,validation_data=(X_valid,y_valid),epochs=25,batch_size=128)"
   ]
  },
  {
   "cell_type": "markdown",
   "id": "52793794-84da-46e6-97e3-e246a27d608b",
   "metadata": {},
   "source": [
    "## Testing"
   ]
  },
  {
   "cell_type": "code",
   "execution_count": 45,
   "id": "92179f92-e609-41b9-97f6-90283d6f8f7a",
   "metadata": {},
   "outputs": [],
   "source": [
    "y_pred = base_model.predict(X_test)\n",
    "y_pred = np.round(y_pred).astype(int)"
   ]
  },
  {
   "cell_type": "code",
   "execution_count": 46,
   "id": "9e1ef8ee-e370-4b1b-83f0-fff7d4e9cef9",
   "metadata": {},
   "outputs": [
    {
     "data": {
      "text/plain": [
       "0.664892406628741"
      ]
     },
     "execution_count": 46,
     "metadata": {},
     "output_type": "execute_result"
    }
   ],
   "source": [
    "accuracy_score(y_test,y_pred)"
   ]
  },
  {
   "cell_type": "code",
   "execution_count": 47,
   "id": "15fcdffe-254f-4965-a259-8b01fc52180b",
   "metadata": {},
   "outputs": [
    {
     "data": {
      "text/plain": [
       "0.6787986837488501"
      ]
     },
     "execution_count": 47,
     "metadata": {},
     "output_type": "execute_result"
    }
   ],
   "source": [
    "f1_score(y_test, y_pred)"
   ]
  },
  {
   "cell_type": "code",
   "execution_count": 49,
   "id": "eff79f0a-61bb-4abd-9497-3238160198c3",
   "metadata": {},
   "outputs": [
    {
     "data": {
      "text/plain": [
       "0.70624453798427"
      ]
     },
     "execution_count": 49,
     "metadata": {},
     "output_type": "execute_result"
    }
   ],
   "source": [
    "roc_auc_score(y_test,base_model.predict(X_test))"
   ]
  },
  {
   "cell_type": "markdown",
   "id": "deb1418d-8859-4751-a42a-71dc5593dfe5",
   "metadata": {},
   "source": [
    "# Further Data Preprocessing"
   ]
  },
  {
   "cell_type": "markdown",
   "id": "b8d81672-f261-4547-9979-33815e6e552d",
   "metadata": {},
   "source": [
    "## Cleaning texts"
   ]
  },
  {
   "cell_type": "markdown",
   "id": "ee28653f-0511-4619-b9a4-291fbb3301c2",
   "metadata": {},
   "source": [
    "Cleaning here is mainly the removal of apostrophes.\n",
    "\n",
    "No stemming or removal of stop words shall be done"
   ]
  },
  {
   "cell_type": "code",
   "execution_count": 10,
   "id": "11a855c1-e122-4d1a-9173-a0cf1819464c",
   "metadata": {},
   "outputs": [],
   "source": [
    "def clean_text(text): #function to clean the text. Mainly for removing apostrophes\n",
    "    text = text.lower() \n",
    "    text = re.sub(\"'s\", \" is\", text)\n",
    "    text = re.sub(\"'m\", \" am\", text)\n",
    "    text = re.sub(\"'t\", \" not\", text)\n",
    "    text = re.sub(\"'d\", \" would\", text)\n",
    "    text = re.sub(\"'ll\",\" will\", text)\n",
    "    text = re.sub(\"'ve\", \" have\", text)\n",
    "    return text"
   ]
  },
  {
   "cell_type": "code",
   "execution_count": 11,
   "id": "71d4555a-a85f-44a3-bd4c-9346751033ca",
   "metadata": {},
   "outputs": [],
   "source": [
    "corpus = []\n",
    "lengths = [] #we keep the lengths to see how much padding to do later\n",
    "for i in range(0, len(X)):\n",
    "  text = clean_text(X[i])\n",
    "  corpus.append(text) #append the list of words to overall list of sentences\n",
    "  length = len(corpus[i].split())\n",
    "  lengths.append(length)"
   ]
  },
  {
   "cell_type": "markdown",
   "id": "3196d2e4-4b94-4404-a3ca-27ffac6be9e7",
   "metadata": {},
   "source": [
    "Adding space to special characters so these special characters will be tokenized later"
   ]
  },
  {
   "cell_type": "code",
   "execution_count": 12,
   "id": "a5027cc1-8008-4be4-b05d-e416726cbf3d",
   "metadata": {},
   "outputs": [],
   "source": [
    "for i in range(0,len(corpus)):\n",
    "    corpus[i] = re.sub('([.,!?()@#$%^&*])', r' \\1 ', corpus[i])"
   ]
  },
  {
   "cell_type": "markdown",
   "id": "95bb1420-0063-4004-9dd1-834042b6dd85",
   "metadata": {},
   "source": [
    "## Tokenizing comments"
   ]
  },
  {
   "cell_type": "markdown",
   "id": "489a5b68-ee2d-425f-a4a2-fadca49fad8e",
   "metadata": {},
   "source": [
    "Instead of calling the Tokenizer object directly, I remove the default filters, as I believe special characters can help in the prediction of sarcastic comments."
   ]
  },
  {
   "cell_type": "markdown",
   "id": "c7d27179-26d3-48e5-85a5-612c46d2d877",
   "metadata": {},
   "source": [
    "pad_sequences adds 0's to sentences/vectors with lengths shorter than 25"
   ]
  },
  {
   "cell_type": "code",
   "execution_count": 13,
   "id": "28918711-a721-40b3-aab3-80c8eaaa6590",
   "metadata": {},
   "outputs": [
    {
     "name": "stdout",
     "output_type": "stream",
     "text": [
      "unique tokens -  235427\n",
      "vocab size - 235428\n"
     ]
    }
   ],
   "source": [
    "from tensorflow.python.keras.preprocessing.text import Tokenizer\n",
    "tokenizer_obj = Tokenizer(\n",
    "    num_words=None,\n",
    "    filters=\"\", #change is here\n",
    "    lower=True, split=' ', char_level=False, oov_token=None,\n",
    "    document_count=0)\n",
    "\n",
    "tokenizer_obj.fit_on_texts(corpus)\n",
    "sequences = tokenizer_obj.texts_to_sequences(corpus)\n",
    "\n",
    "word_index = tokenizer_obj.word_index\n",
    "print(\"unique tokens - \",len(word_index))\n",
    "vocab_size = len(tokenizer_obj.word_index) + 1\n",
    "print('vocab size -', vocab_size)\n",
    "\n",
    "#first set maximum sentence length to be 25. Can be tweaked\n",
    "X_final = pad_sequences(sequences, padding = 'post', maxlen = 25)"
   ]
  },
  {
   "cell_type": "markdown",
   "id": "0a37b71f-e224-45af-8fd0-baf0eafef732",
   "metadata": {},
   "source": [
    "Finalize the data that will be fed into the model"
   ]
  },
  {
   "cell_type": "code",
   "execution_count": 14,
   "id": "8c58c6d1-3169-428c-b779-8f227c4424c6",
   "metadata": {},
   "outputs": [],
   "source": [
    "X_final=np.array(X_final)\n",
    "y_final=np.array(y)"
   ]
  },
  {
   "cell_type": "markdown",
   "id": "e5908724-c470-4d16-892b-a698868af9a5",
   "metadata": {},
   "source": [
    "## Train-Valid-Test split (Manually)"
   ]
  },
  {
   "cell_type": "markdown",
   "id": "e84b7564-a290-4b1b-9548-5b72a33dd045",
   "metadata": {},
   "source": [
    "Train : 60%\n",
    "Validation : 30%\n",
    "Test : 10%"
   ]
  },
  {
   "cell_type": "code",
   "execution_count": 15,
   "id": "701b9b78-2c68-4ef1-984f-09c0bf81a108",
   "metadata": {},
   "outputs": [],
   "source": [
    "train_index = round(len(X_final) * 3/5)\n",
    "test_index = round(len(X_final) * 9/10)\n",
    "X_train = X_final[0:train_index]\n",
    "X_valid = X_final[train_index:test_index]\n",
    "X_test = X_final[test_index:]\n",
    "\n",
    "y_train = y_final[0:train_index]\n",
    "y_valid = y_final[train_index:test_index]\n",
    "y_test = y_final[test_index:]"
   ]
  },
  {
   "cell_type": "markdown",
   "id": "1b75b3e7-49b9-4ada-8a6c-cc4003b35643",
   "metadata": {},
   "source": [
    "Alright, data is cleaned and ready to be used by the model."
   ]
  },
  {
   "cell_type": "markdown",
   "id": "53b54229-ac19-4f52-8733-74a69dee72a6",
   "metadata": {},
   "source": [
    "# Building the GloVe embedding layer"
   ]
  },
  {
   "cell_type": "code",
   "execution_count": 73,
   "id": "85369eb9-b743-4d6b-b0a1-6582c70a9b3c",
   "metadata": {},
   "outputs": [
    {
     "name": "stdout",
     "output_type": "stream",
     "text": [
      "Found 1193514 word vectors.\n"
     ]
    }
   ],
   "source": [
    "embeddings_index = {}\n",
    "embedding_dim = 100\n",
    "f = open(\"glove/glove.twitter.27B.100d.txt\", 'r', encoding=\"utf-8\")\n",
    "for line in f:\n",
    "    values = line.split()\n",
    "    word = values[0]\n",
    "    coefs = np.asarray(values[1:], dtype='float32')\n",
    "    embeddings_index[word] = coefs\n",
    "f.close()\n",
    "\n",
    "print('Found %s word vectors.' % len(embeddings_index))"
   ]
  },
  {
   "cell_type": "code",
   "execution_count": 74,
   "id": "6d26ffc4-89a7-476e-b83b-db2b1586b277",
   "metadata": {},
   "outputs": [],
   "source": [
    "embedding_matrix = np.zeros((len(word_index) + 1, embedding_dim))\n",
    "for word, i in word_index.items():\n",
    "    embedding_vector = embeddings_index.get(word)\n",
    "    if embedding_vector is not None:\n",
    "        embedding_matrix[i] = embedding_vector"
   ]
  },
  {
   "cell_type": "code",
   "execution_count": 75,
   "id": "bec1b789-018d-4102-b554-17f2dd6dfaee",
   "metadata": {},
   "outputs": [],
   "source": [
    "embedding_layer = Embedding(len(word_index) + 1,\n",
    "                            embedding_dim,\n",
    "                            weights=[embedding_matrix],\n",
    "                            input_length=25,\n",
    "                            trainable=False)"
   ]
  },
  {
   "cell_type": "markdown",
   "id": "b00aeb16-fe69-4d81-bc31-60189c5615bc",
   "metadata": {},
   "source": [
    "# 3rd LSTM Model, with Dropout"
   ]
  },
  {
   "cell_type": "markdown",
   "id": "c3e4379a-2fde-4587-81a1-4a3153ab8ce1",
   "metadata": {},
   "source": [
    "## Initialization"
   ]
  },
  {
   "cell_type": "markdown",
   "id": "2848ae6c-06f7-445d-bbbf-e61e7398332e",
   "metadata": {},
   "source": [
    "## Training"
   ]
  },
  {
   "cell_type": "code",
   "execution_count": 18,
   "id": "7a1248ac-5799-48b5-b842-f5aae88c46c1",
   "metadata": {},
   "outputs": [
    {
     "name": "stderr",
     "output_type": "stream",
     "text": [
      "2021-11-20 12:37:22.005507: I tensorflow/compiler/mlir/mlir_graph_optimization_pass.cc:185] None of the MLIR Optimization Passes are enabled (registered 2)\n"
     ]
    },
    {
     "name": "stdout",
     "output_type": "stream",
     "text": [
      "Epoch 1/25\n",
      "4738/4738 [==============================] - 225s 47ms/step - loss: 0.5821 - accuracy: 0.6891 - val_loss: 0.5611 - val_accuracy: 0.7042\n",
      "Epoch 2/25\n",
      "4738/4738 [==============================] - 204s 43ms/step - loss: 0.5456 - accuracy: 0.7195 - val_loss: 0.5522 - val_accuracy: 0.7140\n",
      "Epoch 3/25\n",
      "4738/4738 [==============================] - 213s 45ms/step - loss: 0.5318 - accuracy: 0.7301 - val_loss: 0.5284 - val_accuracy: 0.7320\n",
      "Epoch 4/25\n",
      "4738/4738 [==============================] - 240s 51ms/step - loss: 0.5226 - accuracy: 0.7368 - val_loss: 0.5307 - val_accuracy: 0.7298\n",
      "Epoch 5/25\n",
      "4738/4738 [==============================] - 229s 48ms/step - loss: 0.5149 - accuracy: 0.7426 - val_loss: 0.5233 - val_accuracy: 0.7363\n",
      "Epoch 6/25\n",
      "4738/4738 [==============================] - 225s 47ms/step - loss: 0.5081 - accuracy: 0.7477 - val_loss: 0.5239 - val_accuracy: 0.7368\n",
      "Epoch 7/25\n",
      "4738/4738 [==============================] - 216s 46ms/step - loss: 0.5034 - accuracy: 0.7507 - val_loss: 0.5210 - val_accuracy: 0.7386\n",
      "Epoch 8/25\n",
      "4738/4738 [==============================] - 212s 45ms/step - loss: 0.4987 - accuracy: 0.7537 - val_loss: 0.5198 - val_accuracy: 0.7403\n",
      "Epoch 9/25\n",
      "4738/4738 [==============================] - 205s 43ms/step - loss: 0.4945 - accuracy: 0.7568 - val_loss: 0.5261 - val_accuracy: 0.7371\n",
      "Epoch 10/25\n",
      "4738/4738 [==============================] - 206s 44ms/step - loss: 0.4907 - accuracy: 0.7598 - val_loss: 0.5246 - val_accuracy: 0.7381\n",
      "Epoch 11/25\n",
      "4738/4738 [==============================] - 205s 43ms/step - loss: 0.4874 - accuracy: 0.7619 - val_loss: 0.5213 - val_accuracy: 0.7387\n",
      "Epoch 12/25\n",
      "4738/4738 [==============================] - 205s 43ms/step - loss: 0.4842 - accuracy: 0.7642 - val_loss: 0.5268 - val_accuracy: 0.7395\n",
      "Epoch 13/25\n",
      "4738/4738 [==============================] - 220s 46ms/step - loss: 0.4817 - accuracy: 0.7655 - val_loss: 0.5419 - val_accuracy: 0.7345\n",
      "Epoch 14/25\n",
      "4738/4738 [==============================] - 234s 49ms/step - loss: 0.4789 - accuracy: 0.7671 - val_loss: 0.5235 - val_accuracy: 0.7404\n",
      "Epoch 15/25\n",
      "4738/4738 [==============================] - 213s 45ms/step - loss: 0.4768 - accuracy: 0.7691 - val_loss: 0.5356 - val_accuracy: 0.7366\n",
      "Epoch 16/25\n",
      "4738/4738 [==============================] - 210s 44ms/step - loss: 0.4743 - accuracy: 0.7699 - val_loss: 0.5342 - val_accuracy: 0.7373\n",
      "Epoch 17/25\n",
      "4738/4738 [==============================] - 211s 45ms/step - loss: 0.4726 - accuracy: 0.7713 - val_loss: 0.5306 - val_accuracy: 0.7374\n",
      "Epoch 18/25\n",
      "4738/4738 [==============================] - 231s 49ms/step - loss: 0.4707 - accuracy: 0.7727 - val_loss: 0.5294 - val_accuracy: 0.7381\n",
      "Epoch 19/25\n",
      "4738/4738 [==============================] - 214s 45ms/step - loss: 0.4683 - accuracy: 0.7745 - val_loss: 0.5373 - val_accuracy: 0.7356\n",
      "Epoch 20/25\n",
      "4738/4738 [==============================] - 211s 45ms/step - loss: 0.4668 - accuracy: 0.7756 - val_loss: 0.5361 - val_accuracy: 0.7375\n",
      "Epoch 21/25\n",
      "4738/4738 [==============================] - 212s 45ms/step - loss: 0.4659 - accuracy: 0.7759 - val_loss: 0.5376 - val_accuracy: 0.7371\n",
      "Epoch 22/25\n",
      "4738/4738 [==============================] - 224s 47ms/step - loss: 0.4645 - accuracy: 0.7769 - val_loss: 0.5313 - val_accuracy: 0.7367\n",
      "Epoch 23/25\n",
      "4738/4738 [==============================] - 224s 47ms/step - loss: 0.4628 - accuracy: 0.7778 - val_loss: 0.5399 - val_accuracy: 0.7365\n",
      "Epoch 24/25\n",
      "4738/4738 [==============================] - 212s 45ms/step - loss: 0.4618 - accuracy: 0.7784 - val_loss: 0.5408 - val_accuracy: 0.7357\n",
      "Epoch 25/25\n",
      "4738/4738 [==============================] - 228s 48ms/step - loss: 0.4606 - accuracy: 0.7794 - val_loss: 0.5382 - val_accuracy: 0.7344\n"
     ]
    },
    {
     "data": {
      "text/plain": [
       "<keras.callbacks.History at 0x7ff498ce6790>"
      ]
     },
     "execution_count": 18,
     "metadata": {},
     "output_type": "execute_result"
    }
   ],
   "source": [
    "model2.fit(X_train,y_train,validation_data=(X_valid,y_valid),epochs=25,batch_size=128)"
   ]
  },
  {
   "cell_type": "markdown",
   "id": "b012cc06-dc1c-4296-8656-a3cde4a045e4",
   "metadata": {},
   "source": [
    "## Testing"
   ]
  },
  {
   "cell_type": "code",
   "execution_count": 19,
   "id": "f476f913-7827-4ac0-a991-38b4bdfe2247",
   "metadata": {},
   "outputs": [],
   "source": [
    "y_pred = model2.predict(X_test)\n",
    "y_pred = np.round(y_pred).astype(int)"
   ]
  },
  {
   "cell_type": "code",
   "execution_count": 33,
   "id": "34603d25-9a2b-4bf6-98ba-cff65ddf9136",
   "metadata": {},
   "outputs": [
    {
     "data": {
      "text/plain": [
       "array([[0.46290022],\n",
       "       [0.76631683],\n",
       "       [0.22186878],\n",
       "       ...,\n",
       "       [0.70319855],\n",
       "       [0.5320522 ],\n",
       "       [0.28534532]], dtype=float32)"
      ]
     },
     "execution_count": 33,
     "metadata": {},
     "output_type": "execute_result"
    }
   ],
   "source": [
    "model2.predict(X_test)"
   ]
  },
  {
   "cell_type": "code",
   "execution_count": 20,
   "id": "072efe4a-3e26-4c4c-98f7-928abdd04831",
   "metadata": {},
   "outputs": [
    {
     "data": {
      "text/plain": [
       "0.7382438783081869"
      ]
     },
     "execution_count": 20,
     "metadata": {},
     "output_type": "execute_result"
    }
   ],
   "source": [
    "accuracy_score(y_test, y_pred)"
   ]
  },
  {
   "cell_type": "code",
   "execution_count": 34,
   "id": "58ff261b-3885-46dc-ac87-4ba293980498",
   "metadata": {},
   "outputs": [
    {
     "data": {
      "text/plain": [
       "0.8157664930996337"
      ]
     },
     "execution_count": 34,
     "metadata": {},
     "output_type": "execute_result"
    }
   ],
   "source": [
    "roc_auc_score(y_test,model2.predict(X_test))"
   ]
  },
  {
   "cell_type": "code",
   "execution_count": 29,
   "id": "5ff5d356-05c5-4198-8dfa-07b9a8be93d5",
   "metadata": {},
   "outputs": [
    {
     "data": {
      "text/plain": [
       "0.7437752404195357"
      ]
     },
     "execution_count": 29,
     "metadata": {},
     "output_type": "execute_result"
    }
   ],
   "source": [
    "f1_score(y_test, y_pred)"
   ]
  },
  {
   "cell_type": "code",
   "execution_count": 35,
   "id": "6bf1b43b-2cf6-4c42-b68b-6a16b891a054",
   "metadata": {},
   "outputs": [],
   "source": [
    "y_pred = model2.predict(X_test)"
   ]
  },
  {
   "cell_type": "markdown",
   "id": "26fbb943-ce1d-4058-a010-5af9b4a2b6b0",
   "metadata": {
    "tags": []
   },
   "source": [
    "# 2nd LSTM Model"
   ]
  },
  {
   "cell_type": "markdown",
   "id": "596e88a8-2466-4be4-b4ad-522833452ba0",
   "metadata": {},
   "source": [
    "## Initialization"
   ]
  },
  {
   "cell_type": "code",
   "execution_count": null,
   "id": "3037b707-3810-437f-8368-b1a1f679f799",
   "metadata": {},
   "outputs": [
    {
     "name": "stdout",
     "output_type": "stream",
     "text": [
      "Model: \"sequential_6\"\n",
      "_________________________________________________________________\n",
      "Layer (type)                 Output Shape              Param #   \n",
      "=================================================================\n",
      "embedding (Embedding)        (None, 25, 100)           23542800  \n",
      "_________________________________________________________________\n",
      "lstm_8 (LSTM)                (None, 25, 100)           80400     \n",
      "_________________________________________________________________\n",
      "lstm_9 (LSTM)                (None, 100)               80400     \n",
      "_________________________________________________________________\n",
      "dense_3 (Dense)              (None, 1)                 101       \n",
      "=================================================================\n",
      "Total params: 23,703,701\n",
      "Trainable params: 160,901\n",
      "Non-trainable params: 23,542,800\n",
      "_________________________________________________________________\n"
     ]
    }
   ],
   "source": [
    "model3 = Sequential()\n",
    "model3.add(embedding_layer)\n",
    "model3.add(LSTM(100, return_sequences = True))\n",
    "model3.add(LSTM(100)\n",
    "model3.add(Dense(1,activation = 'sigmoid')) #last layer 1 node\n",
    "model3.compile(loss = 'binary_crossentropy',optimizer = 'adam',metrics=['accuracy']) #binary cross entropy since its classification problem\n",
    "model3.summary()"
   ]
  },
  {
   "cell_type": "markdown",
   "id": "62999b78-a595-404f-8c35-cdffe5b328de",
   "metadata": {},
   "source": [
    "## Training"
   ]
  },
  {
   "cell_type": "code",
   "execution_count": 87,
   "id": "261fe04b-6ef4-4033-8ad6-bd72bcf02b8b",
   "metadata": {},
   "outputs": [
    {
     "name": "stdout",
     "output_type": "stream",
     "text": [
      "Epoch 1/25\n",
      "4738/4738 [==============================] - 437s 91ms/step - loss: 0.5784 - accuracy: 0.6923 - val_loss: 0.5463 - val_accuracy: 0.7165\n",
      "Epoch 2/25\n",
      "4738/4738 [==============================] - 424s 90ms/step - loss: 0.5419 - accuracy: 0.7233 - val_loss: 0.5421 - val_accuracy: 0.7222\n",
      "Epoch 3/25\n",
      "4738/4738 [==============================] - 409s 86ms/step - loss: 0.5271 - accuracy: 0.7339 - val_loss: 0.5308 - val_accuracy: 0.7295\n",
      "Epoch 4/25\n",
      "4738/4738 [==============================] - 443s 93ms/step - loss: 0.5164 - accuracy: 0.7414 - val_loss: 0.5362 - val_accuracy: 0.7293\n",
      "Epoch 5/25\n",
      "4738/4738 [==============================] - 524s 111ms/step - loss: 0.5074 - accuracy: 0.7479 - val_loss: 0.5226 - val_accuracy: 0.7383\n",
      "Epoch 6/25\n",
      "4738/4738 [==============================] - 605s 128ms/step - loss: 0.4990 - accuracy: 0.7533 - val_loss: 0.5261 - val_accuracy: 0.7362\n",
      "Epoch 7/25\n",
      "4738/4738 [==============================] - 614s 130ms/step - loss: 0.4913 - accuracy: 0.7590 - val_loss: 0.5335 - val_accuracy: 0.7326\n",
      "Epoch 8/25\n",
      "4738/4738 [==============================] - 409s 86ms/step - loss: 0.4839 - accuracy: 0.7642 - val_loss: 0.5262 - val_accuracy: 0.7368\n",
      "Epoch 9/25\n",
      "4738/4738 [==============================] - 414s 87ms/step - loss: 0.4766 - accuracy: 0.7685 - val_loss: 0.5327 - val_accuracy: 0.7344\n",
      "Epoch 10/25\n",
      "4738/4738 [==============================] - 486s 103ms/step - loss: 0.4694 - accuracy: 0.7727 - val_loss: 0.5389 - val_accuracy: 0.7352\n",
      "Epoch 11/25\n",
      "4738/4738 [==============================] - 628s 133ms/step - loss: 0.4626 - accuracy: 0.7774 - val_loss: 0.5345 - val_accuracy: 0.7361\n",
      "Epoch 12/25\n",
      "4738/4738 [==============================] - 441s 93ms/step - loss: 0.4565 - accuracy: 0.7811 - val_loss: 0.5376 - val_accuracy: 0.7354\n",
      "Epoch 13/25\n",
      "4738/4738 [==============================] - 566s 120ms/step - loss: 0.4502 - accuracy: 0.7851 - val_loss: 0.5475 - val_accuracy: 0.7326\n",
      "Epoch 14/25\n",
      "4738/4738 [==============================] - 402s 85ms/step - loss: 0.4444 - accuracy: 0.7889 - val_loss: 0.5500 - val_accuracy: 0.7324\n",
      "Epoch 15/25\n",
      "4738/4738 [==============================] - 456s 96ms/step - loss: 0.4389 - accuracy: 0.7921 - val_loss: 0.5561 - val_accuracy: 0.7303\n",
      "Epoch 16/25\n",
      "4738/4738 [==============================] - 605s 128ms/step - loss: 0.4341 - accuracy: 0.7953 - val_loss: 0.5639 - val_accuracy: 0.7297\n",
      "Epoch 17/25\n",
      "4738/4738 [==============================] - 375s 79ms/step - loss: 0.4290 - accuracy: 0.7983 - val_loss: 0.5693 - val_accuracy: 0.7294\n",
      "Epoch 18/25\n",
      "4738/4738 [==============================] - 380s 80ms/step - loss: 0.4244 - accuracy: 0.8010 - val_loss: 0.5688 - val_accuracy: 0.7284\n",
      "Epoch 19/25\n",
      "4738/4738 [==============================] - 390s 82ms/step - loss: 0.4209 - accuracy: 0.8030 - val_loss: 0.5772 - val_accuracy: 0.7269\n",
      "Epoch 20/25\n",
      "4738/4738 [==============================] - 394s 83ms/step - loss: 0.4166 - accuracy: 0.8049 - val_loss: 0.5900 - val_accuracy: 0.7242\n",
      "Epoch 21/25\n",
      "4738/4738 [==============================] - 393s 83ms/step - loss: 0.4130 - accuracy: 0.8077 - val_loss: 0.5877 - val_accuracy: 0.7237\n",
      "Epoch 22/25\n",
      "4738/4738 [==============================] - 382s 81ms/step - loss: 0.4098 - accuracy: 0.8096 - val_loss: 0.6006 - val_accuracy: 0.7249\n",
      "Epoch 23/25\n",
      "4738/4738 [==============================] - 368s 78ms/step - loss: 0.4068 - accuracy: 0.8110 - val_loss: 0.5941 - val_accuracy: 0.7236\n",
      "Epoch 24/25\n",
      "4738/4738 [==============================] - 359s 76ms/step - loss: 0.4036 - accuracy: 0.8125 - val_loss: 0.5995 - val_accuracy: 0.7229\n",
      "Epoch 25/25\n",
      "4738/4738 [==============================] - 353s 75ms/step - loss: 0.4011 - accuracy: 0.8145 - val_loss: 0.6164 - val_accuracy: 0.7215\n"
     ]
    },
    {
     "data": {
      "text/plain": [
       "<keras.callbacks.History at 0x7fa17b0b19a0>"
      ]
     },
     "execution_count": 87,
     "metadata": {},
     "output_type": "execute_result"
    }
   ],
   "source": [
    "model3.fit(X_train,y_train,validation_data=(X_valid,y_valid),epochs=25,batch_size=128)"
   ]
  },
  {
   "cell_type": "markdown",
   "id": "d82dbe03-67c2-41f8-a0d5-00a90f0f45a7",
   "metadata": {},
   "source": [
    "## Testing"
   ]
  },
  {
   "cell_type": "code",
   "execution_count": 78,
   "id": "4181a3c4-05e7-4bae-b817-23d12d29bbbe",
   "metadata": {},
   "outputs": [],
   "source": [
    "y_pred = model3.predict(X_test)\n",
    "y_pred = np.round(y_pred).astype(int)"
   ]
  },
  {
   "cell_type": "code",
   "execution_count": null,
   "id": "d318aa36-28ca-4ffc-86db-03ff9c760287",
   "metadata": {},
   "outputs": [
    {
     "data": {
      "text/plain": [
       "0.7176947811031412"
      ]
     },
     "execution_count": 79,
     "metadata": {},
     "output_type": "execute_result"
    }
   ],
   "source": [
    "accuracy_score(y_test, y_pred)"
   ]
  },
  {
   "cell_type": "code",
   "execution_count": 80,
   "id": "8d7597f8-f048-40a2-873a-55a09babc1f7",
   "metadata": {},
   "outputs": [
    {
     "data": {
      "text/plain": [
       "0.7911966176547351"
      ]
     },
     "execution_count": 80,
     "metadata": {},
     "output_type": "execute_result"
    }
   ],
   "source": [
    "roc_auc_score(y_test,model.predict(X_test))"
   ]
  },
  {
   "cell_type": "code",
   "execution_count": 81,
   "id": "6966aedd-d43d-4e5e-9693-4b451231f403",
   "metadata": {},
   "outputs": [
    {
     "data": {
      "text/plain": [
       "0.7143686560291498"
      ]
     },
     "execution_count": 81,
     "metadata": {},
     "output_type": "execute_result"
    }
   ],
   "source": [
    "f1_score(y_test, y_pred)"
   ]
  },
  {
   "cell_type": "markdown",
   "id": "2a54fa49-e531-43e1-b719-87d01bfc0dee",
   "metadata": {},
   "source": [
    "Training accuracy : 81.16%, Validation accuracy : 72.12%, Test Accuracy = 72.32%"
   ]
  },
  {
   "cell_type": "markdown",
   "id": "1d6321dc-6a9f-4880-812a-84c0a350347f",
   "metadata": {},
   "source": [
    "There seems to be some overfitting occuring. I will add dropout and see how the model performs now"
   ]
  },
  {
   "cell_type": "markdown",
   "id": "72c9020c-451e-4515-8092-ac0fe1ac15a2",
   "metadata": {},
   "source": [
    "# LSTM with Dropouts"
   ]
  },
  {
   "cell_type": "markdown",
   "id": "cbb8a70b-38cd-4670-867d-c99aee2c5c26",
   "metadata": {
    "tags": []
   },
   "source": [
    "## 0.1"
   ]
  },
  {
   "cell_type": "code",
   "execution_count": 95,
   "id": "601a9885-63d0-4d09-a599-707f7317f30c",
   "metadata": {},
   "outputs": [
    {
     "name": "stdout",
     "output_type": "stream",
     "text": [
      "Model: \"sequential_11\"\n",
      "_________________________________________________________________\n",
      "Layer (type)                 Output Shape              Param #   \n",
      "=================================================================\n",
      "embedding (Embedding)        (None, 25, 100)           23542800  \n",
      "_________________________________________________________________\n",
      "lstm_16 (LSTM)               (None, 25, 100)           80400     \n",
      "_________________________________________________________________\n",
      "lstm_17 (LSTM)               (None, 100)               80400     \n",
      "_________________________________________________________________\n",
      "dense_7 (Dense)              (None, 1)                 101       \n",
      "=================================================================\n",
      "Total params: 23,703,701\n",
      "Trainable params: 160,901\n",
      "Non-trainable params: 23,542,800\n",
      "_________________________________________________________________\n"
     ]
    }
   ],
   "source": [
    "model5 = Sequential()\n",
    "model5.add(embedding_layer)\n",
    "model5.add(LSTM(100, dropout = 0.1,return_sequences = True))\n",
    "model5.add(LSTM(100, dropout = 0.1))\n",
    "model5.add(Dense(1,activation = 'sigmoid')) #last layer 1 node\n",
    "model5.compile(loss = 'binary_crossentropy',optimizer = 'adam',metrics=['accuracy']) #binary cross entropy since its classification problem\n",
    "model5.summary()"
   ]
  },
  {
   "cell_type": "code",
   "execution_count": 97,
   "id": "d42a2c5c-3443-4c6f-a2f0-af64d402ae97",
   "metadata": {},
   "outputs": [
    {
     "name": "stdout",
     "output_type": "stream",
     "text": [
      "Epoch 1/10\n",
      "4738/4738 [==============================] - 357s 75ms/step - loss: 0.5841 - accuracy: 0.6873 - val_loss: 0.5495 - val_accuracy: 0.7149\n",
      "Epoch 2/10\n",
      "4738/4738 [==============================] - 357s 75ms/step - loss: 0.5478 - accuracy: 0.7177 - val_loss: 0.5337 - val_accuracy: 0.7268\n",
      "Epoch 3/10\n",
      "4738/4738 [==============================] - 364s 77ms/step - loss: 0.5346 - accuracy: 0.7281 - val_loss: 0.5317 - val_accuracy: 0.7300\n",
      "Epoch 4/10\n",
      "4738/4738 [==============================] - 365s 77ms/step - loss: 0.5256 - accuracy: 0.7346 - val_loss: 0.5237 - val_accuracy: 0.7346\n",
      "Epoch 5/10\n",
      "4738/4738 [==============================] - 364s 77ms/step - loss: 0.5182 - accuracy: 0.7398 - val_loss: 0.5310 - val_accuracy: 0.7319\n",
      "Epoch 6/10\n",
      "4738/4738 [==============================] - 346s 73ms/step - loss: 0.5125 - accuracy: 0.7441 - val_loss: 0.5232 - val_accuracy: 0.7377\n",
      "Epoch 7/10\n",
      "4738/4738 [==============================] - 354s 75ms/step - loss: 0.5071 - accuracy: 0.7477 - val_loss: 0.5190 - val_accuracy: 0.7391\n",
      "Epoch 8/10\n",
      "4738/4738 [==============================] - 1617s 341ms/step - loss: 0.5021 - accuracy: 0.7515 - val_loss: 0.5175 - val_accuracy: 0.7414\n",
      "Epoch 9/10\n",
      "4738/4738 [==============================] - 394s 83ms/step - loss: 0.4981 - accuracy: 0.7539 - val_loss: 0.5177 - val_accuracy: 0.7419\n",
      "Epoch 10/10\n",
      "4738/4738 [==============================] - 402s 85ms/step - loss: 0.4941 - accuracy: 0.7565 - val_loss: 0.5220 - val_accuracy: 0.7388\n"
     ]
    },
    {
     "data": {
      "text/plain": [
       "<keras.callbacks.History at 0x7fa17da477f0>"
      ]
     },
     "execution_count": 97,
     "metadata": {},
     "output_type": "execute_result"
    }
   ],
   "source": [
    "model5.fit(X_train,y_train,validation_data=(X_valid,y_valid),epochs=10,batch_size=128)"
   ]
  },
  {
   "cell_type": "code",
   "execution_count": 98,
   "id": "3f17efcb-fd94-4f12-8418-98f90a41de68",
   "metadata": {},
   "outputs": [],
   "source": [
    "y_pred5 = model5.predict(X_test)\n",
    "y_pred5 = np.round(y_pred5).astype(int)"
   ]
  },
  {
   "cell_type": "code",
   "execution_count": 99,
   "id": "c6f74f87-163b-4903-8a54-22e6b3086494",
   "metadata": {},
   "outputs": [
    {
     "data": {
      "text/plain": [
       "0.7418748454118229"
      ]
     },
     "execution_count": 99,
     "metadata": {},
     "output_type": "execute_result"
    }
   ],
   "source": [
    "accuracy_score(y_test, y_pred5)"
   ]
  },
  {
   "cell_type": "markdown",
   "id": "c7a22815-74fc-4def-b222-9a3f3da392bd",
   "metadata": {},
   "source": [
    "## 0.2"
   ]
  },
  {
   "cell_type": "code",
   "execution_count": 89,
   "id": "dcba1926-5580-4da5-b24d-4938bcf639aa",
   "metadata": {},
   "outputs": [
    {
     "name": "stdout",
     "output_type": "stream",
     "text": [
      "Model: \"sequential_8\"\n",
      "_________________________________________________________________\n",
      "Layer (type)                 Output Shape              Param #   \n",
      "=================================================================\n",
      "embedding (Embedding)        (None, 25, 100)           23542800  \n",
      "_________________________________________________________________\n",
      "lstm_10 (LSTM)               (None, 25, 100)           80400     \n",
      "_________________________________________________________________\n",
      "lstm_11 (LSTM)               (None, 100)               80400     \n",
      "_________________________________________________________________\n",
      "dense_4 (Dense)              (None, 1)                 101       \n",
      "=================================================================\n",
      "Total params: 23,703,701\n",
      "Trainable params: 160,901\n",
      "Non-trainable params: 23,542,800\n",
      "_________________________________________________________________\n"
     ]
    }
   ],
   "source": [
    "model4 = Sequential()\n",
    "model4.add(embedding_layer)\n",
    "model4.add(LSTM(100, dropout = 0.2,return_sequences = True))\n",
    "model4.add(LSTM(100, dropout = 0.2))\n",
    "model4.add(Dense(1,activation = 'sigmoid')) #last layer 1 node\n",
    "model4.compile(loss = 'binary_crossentropy',optimizer = 'adam',metrics=['accuracy']) #binary cross entropy since its classification problem\n",
    "model4.summary()"
   ]
  },
  {
   "cell_type": "code",
   "execution_count": 90,
   "id": "e708746d-1224-4a80-8e21-07058f99b00d",
   "metadata": {},
   "outputs": [
    {
     "name": "stdout",
     "output_type": "stream",
     "text": [
      "Epoch 1/25\n",
      "4738/4738 [==============================] - 539s 113ms/step - loss: 0.5910 - accuracy: 0.6800 - val_loss: 0.5570 - val_accuracy: 0.7058\n",
      "Epoch 2/25\n",
      "4738/4738 [==============================] - 806s 170ms/step - loss: 0.5556 - accuracy: 0.7117 - val_loss: 0.5386 - val_accuracy: 0.7236\n",
      "Epoch 3/25\n",
      "4738/4738 [==============================] - 1195s 252ms/step - loss: 0.5428 - accuracy: 0.7212 - val_loss: 0.5298 - val_accuracy: 0.7309\n",
      "Epoch 4/25\n",
      "4738/4738 [==============================] - 511s 108ms/step - loss: 0.5343 - accuracy: 0.7281 - val_loss: 0.5270 - val_accuracy: 0.7336\n",
      "Epoch 5/25\n",
      "4738/4738 [==============================] - 3236s 683ms/step - loss: 0.5281 - accuracy: 0.7328 - val_loss: 0.5247 - val_accuracy: 0.7338\n",
      "Epoch 6/25\n",
      "4738/4738 [==============================] - 3844s 812ms/step - loss: 0.5232 - accuracy: 0.7371 - val_loss: 0.5198 - val_accuracy: 0.7379\n",
      "Epoch 7/25\n",
      "4738/4738 [==============================] - 358s 76ms/step - loss: 0.5196 - accuracy: 0.7392 - val_loss: 0.5199 - val_accuracy: 0.7379\n",
      "Epoch 8/25\n",
      "4738/4738 [==============================] - 379s 80ms/step - loss: 0.5163 - accuracy: 0.7406 - val_loss: 0.5216 - val_accuracy: 0.7392\n",
      "Epoch 9/25\n",
      "4738/4738 [==============================] - 6155s 1s/step - loss: 0.5130 - accuracy: 0.7435 - val_loss: 0.5171 - val_accuracy: 0.7409\n",
      "Epoch 10/25\n",
      "4738/4738 [==============================] - 335s 71ms/step - loss: 0.5106 - accuracy: 0.7451 - val_loss: 0.5172 - val_accuracy: 0.7401\n",
      "Epoch 11/25\n",
      "4738/4738 [==============================] - 339s 72ms/step - loss: 0.5085 - accuracy: 0.7465 - val_loss: 0.5176 - val_accuracy: 0.7422\n",
      "Epoch 12/25\n",
      "4738/4738 [==============================] - 359s 76ms/step - loss: 0.5063 - accuracy: 0.7480 - val_loss: 0.5158 - val_accuracy: 0.7428\n",
      "Epoch 13/25\n",
      "4738/4738 [==============================] - 389s 82ms/step - loss: 0.5043 - accuracy: 0.7492 - val_loss: 0.5169 - val_accuracy: 0.7424\n",
      "Epoch 14/25\n",
      "4738/4738 [==============================] - 388s 82ms/step - loss: 0.5025 - accuracy: 0.7507 - val_loss: 0.5166 - val_accuracy: 0.7428\n",
      "Epoch 15/25\n",
      "4738/4738 [==============================] - 352s 74ms/step - loss: 0.5006 - accuracy: 0.7520 - val_loss: 0.5171 - val_accuracy: 0.7420\n",
      "Epoch 16/25\n",
      "4738/4738 [==============================] - 350s 74ms/step - loss: 0.4996 - accuracy: 0.7522 - val_loss: 0.5182 - val_accuracy: 0.7429\n",
      "Epoch 17/25\n",
      "4738/4738 [==============================] - 379s 80ms/step - loss: 0.4981 - accuracy: 0.7527 - val_loss: 0.5229 - val_accuracy: 0.7398\n",
      "Epoch 18/25\n",
      "4738/4738 [==============================] - 383s 81ms/step - loss: 0.4968 - accuracy: 0.7545 - val_loss: 0.5164 - val_accuracy: 0.7427\n",
      "Epoch 19/25\n",
      "4738/4738 [==============================] - 387s 82ms/step - loss: 0.4956 - accuracy: 0.7552 - val_loss: 0.5177 - val_accuracy: 0.7435\n",
      "Epoch 20/25\n",
      "4738/4738 [==============================] - 391s 83ms/step - loss: 0.4946 - accuracy: 0.7554 - val_loss: 0.5208 - val_accuracy: 0.7407\n",
      "Epoch 21/25\n",
      "4738/4738 [==============================] - 393s 83ms/step - loss: 0.4935 - accuracy: 0.7564 - val_loss: 0.5181 - val_accuracy: 0.7428\n",
      "Epoch 22/25\n",
      "4738/4738 [==============================] - 384s 81ms/step - loss: 0.4923 - accuracy: 0.7578 - val_loss: 0.5159 - val_accuracy: 0.7428\n",
      "Epoch 23/25\n",
      "4738/4738 [==============================] - 369s 78ms/step - loss: 0.4917 - accuracy: 0.7574 - val_loss: 0.5193 - val_accuracy: 0.7420\n",
      "Epoch 24/25\n",
      "4738/4738 [==============================] - 360s 76ms/step - loss: 0.4908 - accuracy: 0.7576 - val_loss: 0.5233 - val_accuracy: 0.7422\n",
      "Epoch 25/25\n",
      "4738/4738 [==============================] - 366s 77ms/step - loss: 0.4903 - accuracy: 0.7584 - val_loss: 0.5227 - val_accuracy: 0.7424\n"
     ]
    },
    {
     "data": {
      "text/plain": [
       "<keras.callbacks.History at 0x7fa1799ae3a0>"
      ]
     },
     "execution_count": 90,
     "metadata": {},
     "output_type": "execute_result"
    }
   ],
   "source": [
    "model4.fit(X_train,y_train,validation_data=(X_valid,y_valid),epochs=25,batch_size=128)"
   ]
  },
  {
   "cell_type": "code",
   "execution_count": 93,
   "id": "571af002-8890-41b8-94e0-5e5f05d0c890",
   "metadata": {},
   "outputs": [],
   "source": [
    "y_pred4 = model4.predict(X_test)\n",
    "y_pred4 = np.round(y_pred4).astype(int)"
   ]
  },
  {
   "cell_type": "code",
   "execution_count": 94,
   "id": "47c11512-63a9-414f-87a1-f619c68ffa7b",
   "metadata": {},
   "outputs": [
    {
     "data": {
      "text/plain": [
       "0.7449023002720752"
      ]
     },
     "execution_count": 94,
     "metadata": {},
     "output_type": "execute_result"
    }
   ],
   "source": [
    "accuracy_score(y_test, y_pred4)"
   ]
  },
  {
   "cell_type": "markdown",
   "id": "475dd557-bd3d-4899-a817-d0e322e245cc",
   "metadata": {
    "tags": []
   },
   "source": [
    "## 0.3"
   ]
  },
  {
   "cell_type": "code",
   "execution_count": 100,
   "id": "826db75f-d790-4ea8-9117-70929c06f016",
   "metadata": {},
   "outputs": [
    {
     "name": "stdout",
     "output_type": "stream",
     "text": [
      "Model: \"sequential_12\"\n",
      "_________________________________________________________________\n",
      "Layer (type)                 Output Shape              Param #   \n",
      "=================================================================\n",
      "embedding (Embedding)        (None, 25, 100)           23542800  \n",
      "_________________________________________________________________\n",
      "lstm_18 (LSTM)               (None, 25, 100)           80400     \n",
      "_________________________________________________________________\n",
      "lstm_19 (LSTM)               (None, 100)               80400     \n",
      "_________________________________________________________________\n",
      "dense_8 (Dense)              (None, 1)                 101       \n",
      "=================================================================\n",
      "Total params: 23,703,701\n",
      "Trainable params: 160,901\n",
      "Non-trainable params: 23,542,800\n",
      "_________________________________________________________________\n"
     ]
    }
   ],
   "source": [
    "model6 = Sequential()\n",
    "model6.add(embedding_layer)\n",
    "model6.add(LSTM(100, dropout = 0.3,return_sequences = True))\n",
    "model6.add(LSTM(100, dropout = 0.3))\n",
    "model6.add(Dense(1,activation = 'sigmoid')) #last layer 1 node\n",
    "model6.compile(loss = 'binary_crossentropy',optimizer = 'adam',metrics=['accuracy']) #binary cross entropy since its classification problem\n",
    "model6.summary()"
   ]
  },
  {
   "cell_type": "code",
   "execution_count": 101,
   "id": "21cb3a13-161b-4c07-9428-6da21aff4787",
   "metadata": {},
   "outputs": [
    {
     "name": "stdout",
     "output_type": "stream",
     "text": [
      "Epoch 1/10\n",
      "4738/4738 [==============================] - 353s 74ms/step - loss: 0.5950 - accuracy: 0.6774 - val_loss: 0.5733 - val_accuracy: 0.6963\n",
      "Epoch 2/10\n",
      "4738/4738 [==============================] - 412s 87ms/step - loss: 0.5629 - accuracy: 0.7059 - val_loss: 0.5526 - val_accuracy: 0.7125\n",
      "Epoch 3/10\n",
      "4738/4738 [==============================] - 382s 81ms/step - loss: 0.5506 - accuracy: 0.7153 - val_loss: 0.5320 - val_accuracy: 0.7289\n",
      "Epoch 4/10\n",
      "4738/4738 [==============================] - 402s 85ms/step - loss: 0.5428 - accuracy: 0.7215 - val_loss: 0.5305 - val_accuracy: 0.7314\n",
      "Epoch 5/10\n",
      "4738/4738 [==============================] - 446s 94ms/step - loss: 0.5370 - accuracy: 0.7260 - val_loss: 0.5236 - val_accuracy: 0.7349\n",
      "Epoch 6/10\n",
      "4738/4738 [==============================] - 434s 92ms/step - loss: 0.5333 - accuracy: 0.7287 - val_loss: 0.5229 - val_accuracy: 0.7360\n",
      "Epoch 7/10\n",
      "4738/4738 [==============================] - 427s 90ms/step - loss: 0.5300 - accuracy: 0.7305 - val_loss: 0.5246 - val_accuracy: 0.7362\n",
      "Epoch 8/10\n",
      "4738/4738 [==============================] - 397s 84ms/step - loss: 0.5273 - accuracy: 0.7333 - val_loss: 0.5235 - val_accuracy: 0.7373\n",
      "Epoch 9/10\n",
      "4738/4738 [==============================] - 1544s 326ms/step - loss: 0.5249 - accuracy: 0.7342 - val_loss: 0.5193 - val_accuracy: 0.7381\n",
      "Epoch 10/10\n",
      "4738/4738 [==============================] - 362s 76ms/step - loss: 0.5224 - accuracy: 0.7362 - val_loss: 0.5161 - val_accuracy: 0.7416\n"
     ]
    },
    {
     "data": {
      "text/plain": [
       "<keras.callbacks.History at 0x7fa189252ac0>"
      ]
     },
     "execution_count": 101,
     "metadata": {},
     "output_type": "execute_result"
    }
   ],
   "source": [
    "model6.fit(X_train,y_train,validation_data=(X_valid,y_valid),epochs=10,batch_size=128)"
   ]
  },
  {
   "cell_type": "code",
   "execution_count": 102,
   "id": "38f92178-b14c-4777-b9b5-87b97f0e79d2",
   "metadata": {},
   "outputs": [],
   "source": [
    "y_pred6 = model5.predict(X_test)\n",
    "y_pred6 = np.round(y_pred6).astype(int)"
   ]
  },
  {
   "cell_type": "code",
   "execution_count": 103,
   "id": "d453229e-cbe4-48ad-b745-f27fea74c579",
   "metadata": {},
   "outputs": [
    {
     "data": {
      "text/plain": [
       "0.7418748454118229"
      ]
     },
     "execution_count": 103,
     "metadata": {},
     "output_type": "execute_result"
    }
   ],
   "source": [
    "accuracy_score(y_test,y_pred6)"
   ]
  },
  {
   "cell_type": "code",
   "execution_count": 123,
   "id": "487d2e91-4c76-4b9f-8124-f098f2f2c3dd",
   "metadata": {},
   "outputs": [
    {
     "data": {
      "text/plain": [
       "Text(0.5, 1.0, 'Loss against Epochs')"
      ]
     },
     "execution_count": 123,
     "metadata": {},
     "output_type": "execute_result"
    },
    {
     "data": {
      "image/png": "[encoded data removed]",
      "text/plain": [
       "<Figure size 432x288 with 1 Axes>"
      ]
     },
     "metadata": {
      "needs_background": "light"
     },
     "output_type": "display_data"
    }
   ],
   "source": [
    "Epochs = list(range(25))\n",
    "Loss = [0.591,0.5556,0.5428, 0.5343,0.5281, 0.5232, 0.5196, 0.5163, 0.5130, 0.5106, 0.5085, 0.5063, 0.5043, 0.5025, 0.5006, 0.4996, 0.4981, 0.4968, 0.4956, 0.4946, 0.4935, 0.4923, 0.4917, 0.4908, 0.4903]\n",
    "plt.plot(Epochs, Loss)\n",
    "plt.xlabel('Epochs')\n",
    "plt.ylabel('Loss')\n",
    "plt.title('Loss against Epochs')"
   ]
  },
  {
   "cell_type": "markdown",
   "id": "354c1238-3a76-4b46-b0fe-c8b735da10bc",
   "metadata": {
    "tags": []
   },
   "source": [
    "# Trying different thresholds"
   ]
  },
  {
   "cell_type": "markdown",
   "id": "d5cb586b-0702-4402-9dc7-e756ba208074",
   "metadata": {},
   "source": [
    "## Saving and loading the model"
   ]
  },
  {
   "cell_type": "code",
   "execution_count": 52,
   "id": "553cd3ca-f0bd-45d4-85d5-a1c78263fc82",
   "metadata": {},
   "outputs": [
    {
     "name": "stdout",
     "output_type": "stream",
     "text": [
      "INFO:tensorflow:Assets written to: /Users/jasinchow/Downloads/finalLSTM/assets\n"
     ]
    }
   ],
   "source": [
    "path = '/Users/jasinchow/Downloads/finalLSTM'\n",
    "model2.save(path)"
   ]
  },
  {
   "cell_type": "code",
   "execution_count": 1,
   "id": "edf8a215-0f57-4faf-adf5-7e589d7d8260",
   "metadata": {},
   "outputs": [
    {
     "name": "stderr",
     "output_type": "stream",
     "text": [
      "2021-11-25 17:10:04.820073: I tensorflow/core/platform/cpu_feature_guard.cc:142] This TensorFlow binary is optimized with oneAPI Deep Neural Network Library (oneDNN) to use the following CPU instructions in performance-critical operations:  AVX2 FMA\n",
      "To enable them in other operations, rebuild TensorFlow with the appropriate compiler flags.\n"
     ]
    }
   ],
   "source": [
    "from tensorflow import keras\n",
    "reload = keras.models.load_model('/Users/jasinchow/Downloads/finalLSTM')"
   ]
  },
  {
   "cell_type": "markdown",
   "id": "504e4024-4774-402a-ba30-db761ab0c47c",
   "metadata": {},
   "source": [
    "## Saving the Tokenizer object"
   ]
  },
  {
   "cell_type": "code",
   "execution_count": 54,
   "id": "b05507e6-fe8a-4cbb-b71d-56dfb1f4de3c",
   "metadata": {},
   "outputs": [],
   "source": [
    "import pickle\n",
    "with open('tokenizer.pickle', 'wb') as handle:\n",
    "    pickle.dump(tokenizer_obj, handle, protocol=pickle.HIGHEST_PROTOCOL)"
   ]
  },
  {
   "cell_type": "markdown",
   "id": "017f7d8b-59f0-4b81-88ea-8d9d568764e9",
   "metadata": {},
   "source": [
    "## Dictionaries of Accuracy, F1 and Recall"
   ]
  },
  {
   "cell_type": "code",
   "execution_count": 67,
   "id": "0868b5fe-ca89-4488-9ea6-260365a5c79a",
   "metadata": {},
   "outputs": [],
   "source": [
    "thresholds = [0.1, 0.2, 0.3, 0.4, 0.5, 0.6, 0.7, 0.8, 0.9]\n",
    "accuracies = {0.1:0,0.2:0,0.3:0,0.4:0,0.5:0,0.6:0,0.7:0,0.8:0,0.9:0}\n",
    "f1 = {0.1:0,0.2:0,0.3:0,0.4:0,0.5:0,0.6:0,0.7:0,0.8:0,0.9:0}\n",
    "recall = {0.1:0,0.2:0,0.3:0,0.4:0,0.5:0,0.6:0,0.7:0,0.8:0,0.9:0}"
   ]
  },
  {
   "cell_type": "code",
   "execution_count": 68,
   "id": "aa2a3157-4060-44c4-9c1e-390adb1ab979",
   "metadata": {},
   "outputs": [],
   "source": [
    "for val in thresholds :\n",
    "    preds = raw_preds > val\n",
    "    y_pred = preds.astype(int)\n",
    "    accuracies[val] = accuracy_score(y_test, y_pred)\n",
    "    f1[val] = f1_score(y_test, y_pred)\n",
    "    recall[val] = recall_score(y_test, y_pred)"
   ]
  },
  {
   "cell_type": "code",
   "execution_count": 71,
   "id": "943b50b3-349a-4e34-bca7-a485c502c548",
   "metadata": {},
   "outputs": [
    {
     "data": {
      "image/png": "[encoded data removed]",
      "text/plain": [
       "<Figure size 432x288 with 1 Axes>"
      ]
     },
     "metadata": {
      "needs_background": "light"
     },
     "output_type": "display_data"
    }
   ],
   "source": [
    "import matplotlib.pyplot as plt\n",
    "plt.plot(thresholds,accuracies.values(), label = 'Accuracy')\n",
    "plt.plot(thresholds,f1.values(), label = 'F1 scores')\n",
    "plt.plot(thresholds,recall.values(), label = 'Recall')\n",
    "plt.xlabel('Thresholds')\n",
    "plt.ylabel('Metric Values')\n",
    "plt.legend()\n",
    "plt.show()"
   ]
  }
 ],
 "metadata": {
  "kernelspec": {
   "display_name": "Python 3 (ipykernel)",
   "language": "python",
   "name": "python3"
  },
  "language_info": {
   "codemirror_mode": {
    "name": "ipython",
    "version": 3
   },
   "file_extension": ".py",
   "mimetype": "text/x-python",
   "name": "python",
   "nbconvert_exporter": "python",
   "pygments_lexer": "ipython3",
   "version": "3.8.11"
  }
 },
 "nbformat": 4,
 "nbformat_minor": 5
}
