{
  "nbformat": 4,
  "nbformat_minor": 0,
  "metadata": {
    "colab": {
      "name": "TF-IDF.ipynb",
      "provenance": [],
      "collapsed_sections": []
    },
    "kernelspec": {
      "name": "python3",
      "display_name": "Python 3"
    },
    "language_info": {
      "name": "python"
    },
    "accelerator": "TPU"
  },
  "cells": [
    {
      "cell_type": "markdown",
      "metadata": {
        "id": "oMpI7ysLkroC"
      },
      "source": [
        "Adapted from:\n",
        "https://www.kaggle.com/kashnitsky/a4-demo-sarcasm-detection-with-logit-solution \n",
        "\n",
        "https://www.kaggle.com/danofer/sarcasm/version/4"
      ]
    },
    {
      "cell_type": "markdown",
      "metadata": {
        "id": "xvLi6xi0AA7d"
      },
      "source": [
        "# Load dataset from kaggle\n"
      ]
    },
    {
      "cell_type": "code",
      "metadata": {
        "id": "np3i89j7yhmf"
      },
      "source": [
        "! mkdir ~/.kaggle"
      ],
      "execution_count": null,
      "outputs": []
    },
    {
      "cell_type": "code",
      "metadata": {
        "id": "_xeOgiSuThHQ"
      },
      "source": [
        "! cp kaggle.json ~/.kaggle/"
      ],
      "execution_count": null,
      "outputs": []
    },
    {
      "cell_type": "code",
      "metadata": {
        "id": "k1IKwl7RTQ9I"
      },
      "source": [
        "! chmod 600 ~/.kaggle/kaggle.json"
      ],
      "execution_count": null,
      "outputs": []
    },
    {
      "cell_type": "code",
      "metadata": {
        "colab": {
          "base_uri": "https://localhost:8080/"
        },
        "id": "lfQyt-zLSgtF",
        "outputId": "ba811a6d-acd0-427b-8365-8f5cbb28ddae"
      },
      "source": [
        "!kaggle datasets download -d danofer/sarcasm"
      ],
      "execution_count": null,
      "outputs": [
        {
          "output_type": "stream",
          "name": "stdout",
          "text": [
            "Downloading sarcasm.zip to /content\n",
            " 95% 205M/216M [00:02<00:00, 53.4MB/s]\n",
            "100% 216M/216M [00:02<00:00, 90.1MB/s]\n"
          ]
        }
      ]
    },
    {
      "cell_type": "code",
      "metadata": {
        "colab": {
          "base_uri": "https://localhost:8080/"
        },
        "id": "2nabbCFcUwHV",
        "outputId": "46134796-b98a-4cf1-fb21-8f27c8bfaacc"
      },
      "source": [
        "!unzip sarcasm.zip"
      ],
      "execution_count": null,
      "outputs": [
        {
          "output_type": "stream",
          "name": "stdout",
          "text": [
            "Archive:  sarcasm.zip\n",
            "  inflating: test-balanced.csv       \n",
            "  inflating: test-unbalanced.csv     \n",
            "  inflating: train-balanced-sarc.csv.gz  \n",
            "  inflating: train-balanced-sarcasm.csv  \n"
          ]
        }
      ]
    },
    {
      "cell_type": "markdown",
      "metadata": {
        "id": "5BaU8Cp4AKHn"
      },
      "source": [
        "# Import and data processing"
      ]
    },
    {
      "cell_type": "code",
      "metadata": {
        "id": "VJpCwvwnaLhG"
      },
      "source": [
        "# Imports\n",
        "\n",
        "import os\n",
        "import numpy as np\n",
        "import pandas as pd\n",
        "import sklearn\n",
        "from sklearn.feature_extraction.text import TfidfVectorizer, CountVectorizer\n",
        "from sklearn.linear_model import LogisticRegression, SGDClassifier\n",
        "from sklearn.pipeline import Pipeline\n",
        "from sklearn.model_selection import train_test_split, GridSearchCV\n",
        "from sklearn.metrics import accuracy_score, confusion_matrix, precision_score, recall_score, f1_score, plot_roc_curve, roc_auc_score\n",
        "import seaborn as sns\n",
        "from matplotlib import pyplot as plt"
      ],
      "execution_count": null,
      "outputs": []
    },
    {
      "cell_type": "code",
      "metadata": {
        "colab": {
          "base_uri": "https://localhost:8080/"
        },
        "id": "lQ8xKglebIhh",
        "outputId": "c6ac2326-acc2-4e67-896a-68cb1b5892fb"
      },
      "source": [
        "train_df = pd.read_csv(\"train-balanced-sarcasm.csv\")\n",
        "train_df.head()"
      ],
      "execution_count": null,
      "outputs": [
        {
          "output_type": "execute_result",
          "data": {
            "text/html": [
              "<div>\n",
              "<style scoped>\n",
              "    .dataframe tbody tr th:only-of-type {\n",
              "        vertical-align: middle;\n",
              "    }\n",
              "\n",
              "    .dataframe tbody tr th {\n",
              "        vertical-align: top;\n",
              "    }\n",
              "\n",
              "    .dataframe thead th {\n",
              "        text-align: right;\n",
              "    }\n",
              "</style>\n",
              "<table border=\"1\" class=\"dataframe\">\n",
              "  <thead>\n",
              "    <tr style=\"text-align: right;\">\n",
              "      <th></th>\n",
              "      <th>label</th>\n",
              "      <th>comment</th>\n",
              "      <th>author</th>\n",
              "      <th>subreddit</th>\n",
              "      <th>score</th>\n",
              "      <th>ups</th>\n",
              "      <th>downs</th>\n",
              "      <th>date</th>\n",
              "      <th>created_utc</th>\n",
              "      <th>parent_comment</th>\n",
              "    </tr>\n",
              "  </thead>\n",
              "  <tbody>\n",
              "    <tr>\n",
              "      <th>0</th>\n",
              "      <td>0</td>\n",
              "      <td>NC and NH.</td>\n",
              "      <td>Trumpbart</td>\n",
              "      <td>politics</td>\n",
              "      <td>2</td>\n",
              "      <td>-1</td>\n",
              "      <td>-1</td>\n",
              "      <td>2016-10</td>\n",
              "      <td>2016-10-16 23:55:23</td>\n",
              "      <td>Yeah, I get that argument. At this point, I'd ...</td>\n",
              "    </tr>\n",
              "    <tr>\n",
              "      <th>1</th>\n",
              "      <td>0</td>\n",
              "      <td>You do know west teams play against west teams...</td>\n",
              "      <td>Shbshb906</td>\n",
              "      <td>nba</td>\n",
              "      <td>-4</td>\n",
              "      <td>-1</td>\n",
              "      <td>-1</td>\n",
              "      <td>2016-11</td>\n",
              "      <td>2016-11-01 00:24:10</td>\n",
              "      <td>The blazers and Mavericks (The wests 5 and 6 s...</td>\n",
              "    </tr>\n",
              "    <tr>\n",
              "      <th>2</th>\n",
              "      <td>0</td>\n",
              "      <td>They were underdogs earlier today, but since G...</td>\n",
              "      <td>Creepeth</td>\n",
              "      <td>nfl</td>\n",
              "      <td>3</td>\n",
              "      <td>3</td>\n",
              "      <td>0</td>\n",
              "      <td>2016-09</td>\n",
              "      <td>2016-09-22 21:45:37</td>\n",
              "      <td>They're favored to win.</td>\n",
              "    </tr>\n",
              "    <tr>\n",
              "      <th>3</th>\n",
              "      <td>0</td>\n",
              "      <td>This meme isn't funny none of the \"new york ni...</td>\n",
              "      <td>icebrotha</td>\n",
              "      <td>BlackPeopleTwitter</td>\n",
              "      <td>-8</td>\n",
              "      <td>-1</td>\n",
              "      <td>-1</td>\n",
              "      <td>2016-10</td>\n",
              "      <td>2016-10-18 21:03:47</td>\n",
              "      <td>deadass don't kill my buzz</td>\n",
              "    </tr>\n",
              "    <tr>\n",
              "      <th>4</th>\n",
              "      <td>0</td>\n",
              "      <td>I could use one of those tools.</td>\n",
              "      <td>cush2push</td>\n",
              "      <td>MaddenUltimateTeam</td>\n",
              "      <td>6</td>\n",
              "      <td>-1</td>\n",
              "      <td>-1</td>\n",
              "      <td>2016-12</td>\n",
              "      <td>2016-12-30 17:00:13</td>\n",
              "      <td>Yep can confirm I saw the tool they use for th...</td>\n",
              "    </tr>\n",
              "  </tbody>\n",
              "</table>\n",
              "</div>"
            ],
            "text/plain": [
              "   label  ...                                     parent_comment\n",
              "0      0  ...  Yeah, I get that argument. At this point, I'd ...\n",
              "1      0  ...  The blazers and Mavericks (The wests 5 and 6 s...\n",
              "2      0  ...                            They're favored to win.\n",
              "3      0  ...                         deadass don't kill my buzz\n",
              "4      0  ...  Yep can confirm I saw the tool they use for th...\n",
              "\n",
              "[5 rows x 10 columns]"
            ]
          },
          "metadata": {},
          "execution_count": 7
        }
      ]
    },
    {
      "cell_type": "code",
      "metadata": {
        "colab": {
          "base_uri": "https://localhost:8080/"
        },
        "id": "2jx2XmY3eqfW",
        "outputId": "a3cbd352-cf16-4da2-d3dd-95b5c0014d0a"
      },
      "source": [
        "train_df.info()"
      ],
      "execution_count": null,
      "outputs": [
        {
          "output_type": "stream",
          "name": "stdout",
          "text": [
            "<class 'pandas.core.frame.DataFrame'>\n",
            "RangeIndex: 1010826 entries, 0 to 1010825\n",
            "Data columns (total 10 columns):\n",
            " #   Column          Non-Null Count    Dtype \n",
            "---  ------          --------------    ----- \n",
            " 0   label           1010826 non-null  int64 \n",
            " 1   comment         1010773 non-null  object\n",
            " 2   author          1010826 non-null  object\n",
            " 3   subreddit       1010826 non-null  object\n",
            " 4   score           1010826 non-null  int64 \n",
            " 5   ups             1010826 non-null  int64 \n",
            " 6   downs           1010826 non-null  int64 \n",
            " 7   date            1010826 non-null  object\n",
            " 8   created_utc     1010826 non-null  object\n",
            " 9   parent_comment  1010826 non-null  object\n",
            "dtypes: int64(4), object(6)\n",
            "memory usage: 77.1+ MB\n"
          ]
        }
      ]
    },
    {
      "cell_type": "code",
      "metadata": {
        "id": "1t1LFMykfQCE"
      },
      "source": [
        "# Some comments missing so we drop the comment column\n",
        "train_df.dropna(subset=['comment'], inplace=True)"
      ],
      "execution_count": null,
      "outputs": []
    },
    {
      "cell_type": "code",
      "metadata": {
        "colab": {
          "base_uri": "https://localhost:8080/"
        },
        "id": "7b8vSBP2fZyb",
        "outputId": "95b24dda-2107-460a-ab91-d7bda8e42f97"
      },
      "source": [
        "train_df['label'].value_counts()"
      ],
      "execution_count": null,
      "outputs": [
        {
          "output_type": "execute_result",
          "data": {
            "text/plain": [
              "0    505405\n",
              "1    505368\n",
              "Name: label, dtype: int64"
            ]
          },
          "metadata": {},
          "execution_count": 10
        }
      ]
    },
    {
      "cell_type": "code",
      "metadata": {
        "id": "GoAL00jIhX_u"
      },
      "source": [
        "train_texts, valid_texts, y_train, y_valid = train_test_split(train_df['comment'], train_df['label'], random_state=17)"
      ],
      "execution_count": null,
      "outputs": []
    },
    {
      "cell_type": "code",
      "metadata": {
        "colab": {
          "base_uri": "https://localhost:8080/"
        },
        "id": "8gf1DLo1hdUD",
        "outputId": "aab98a4a-66b4-490e-e892-13d105947d1e"
      },
      "source": [
        "train_df.loc[train_df['label'] == 1, 'comment'].str.len().apply(np.log1p).hist(label='sarcastic', alpha=.5)\n",
        "train_df.loc[train_df['label'] == 0, 'comment'].str.len().apply(np.log1p).hist(label='normal', alpha=.5)\n",
        "plt.legend();"
      ],
      "execution_count": null,
      "outputs": [
        {
          "output_type": "display_data",
          "data": {
            "image/png": "[encoded data removed]",
            "text/plain": [
              "<Figure size 432x288 with 1 Axes>"
            ]
          },
          "metadata": {
            "needs_background": "light"
          }
        }
      ]
    },
    {
      "cell_type": "code",
      "metadata": {
        "id": "gGWSXN0CflG-"
      },
      "source": [
        "stopwords = [\"the\", \"a\", \"an\", \"she\", \"he\", \"i\", \"you\", \"me\", \"they\",\n",
        "             \"her\", \"his\", \"your\", \"their\", \"my\", \"we\", \"our\", \"ours\",\n",
        "             \"hers\", \"yours\", \"it\", \"its\", \"him\", \"them\", \"theirs\",\n",
        "             \"this\", \"that\", \"is\", \"was\", \"are\", \"were\", \"am\", \"or\",\n",
        "             \"as\", \"of\", \"at\", \"by\", \"for\", \"with\", \"to\", \"from\", \"in\",\n",
        "             \"m\", \"s\", \"ve\", \"d\", \"ll\", \"o\", \"re\"]\n",
        "\n",
        "# vect = CountVectorizer(strip_accents='unicode', stop_words=stopwords, min_df=0.0001, max_df=0.70)\n",
        "# train_bow = vect.fit_transform(train_texts)\n",
        "# train_bow.shape"
      ],
      "execution_count": null,
      "outputs": []
    },
    {
      "cell_type": "markdown",
      "metadata": {
        "id": "jTjXDTFu4olO"
      },
      "source": [
        "# Model Training"
      ]
    },
    {
      "cell_type": "markdown",
      "metadata": {
        "id": "iVPVnxbXKFvF"
      },
      "source": [
        "## BoW - Bag of Words Model\n"
      ]
    },
    {
      "cell_type": "code",
      "metadata": {
        "id": "70YzjY9fKFTv"
      },
      "source": [
        "bow = CountVectorizer(ngram_range=(1, 1), max_features=50000, min_df=2)\n",
        "logit = sklearn.linear_model.LogisticRegression(C=1, n_jobs=4, solver='lbfgs', verbose=1)\n"
      ],
      "execution_count": null,
      "outputs": []
    },
    {
      "cell_type": "code",
      "metadata": {
        "id": "n_1wIfvjKnDT"
      },
      "source": [
        "X_train_texts = bow.fit_transform(train_texts)\n",
        "X_valid_texts = bow.transform(valid_texts)"
      ],
      "execution_count": null,
      "outputs": []
    },
    {
      "cell_type": "code",
      "metadata": {
        "colab": {
          "base_uri": "https://localhost:8080/"
        },
        "id": "RbcM7lUhKo5b",
        "outputId": "77884214-2b01-4e2b-8073-5743883d748b"
      },
      "source": [
        "logit.fit(X_train_texts, y_train)"
      ],
      "execution_count": null,
      "outputs": [
        {
          "output_type": "stream",
          "name": "stderr",
          "text": [
            "[Parallel(n_jobs=4)]: Using backend LokyBackend with 4 concurrent workers.\n",
            "[Parallel(n_jobs=4)]: Done   1 out of   1 | elapsed:   13.8s finished\n"
          ]
        },
        {
          "output_type": "execute_result",
          "data": {
            "text/plain": [
              "LogisticRegression(C=1, n_jobs=4, verbose=1)"
            ]
          },
          "metadata": {},
          "execution_count": 22
        }
      ]
    },
    {
      "cell_type": "code",
      "metadata": {
        "id": "qLGUa-qCKsQ3"
      },
      "source": [
        "valid_pred = logit.predict(X_valid_texts)\n",
        "valid_pred_proba = logit.predict_proba(X_valid_texts)"
      ],
      "execution_count": null,
      "outputs": []
    },
    {
      "cell_type": "code",
      "metadata": {
        "colab": {
          "base_uri": "https://localhost:8080/"
        },
        "id": "MSZz9pIRK0DJ",
        "outputId": "0ee81fd3-e3ba-4501-da9c-f7528a47ad5f"
      },
      "source": [
        "print(\"Accuracy:\", accuracy_score(y_valid, valid_pred))\n",
        "print(\"Precision score:\", precision_score(y_valid, valid_pred))\n",
        "print(\"Recall score:\", recall_score(y_valid, valid_pred))\n",
        "print(\"f1 score:\", f1_score(y_valid, valid_pred))\n",
        "print(\"ROC_AUC score:\", roc_auc_score(y_valid, valid_pred))"
      ],
      "execution_count": null,
      "outputs": [
        {
          "output_type": "stream",
          "name": "stdout",
          "text": [
            "Accuracy: 0.6920029759313636\n",
            "Precision score: 0.7117304891555548\n",
            "Recall score: 0.6457360783631099\n",
            "f1 score: 0.6771290960909012\n",
            "ROC_AUC score: 0.6920172617169446\n"
          ]
        }
      ]
    },
    {
      "cell_type": "code",
      "metadata": {
        "colab": {
          "base_uri": "https://localhost:8080/",
          "height": 351
        },
        "id": "sEommf3YMETl",
        "outputId": "7a0fcd0f-2caa-476a-fbf8-925b28dbc0b5"
      },
      "source": [
        "plot_roc_curve(logit, X_valid_texts, y_valid)"
      ],
      "execution_count": null,
      "outputs": [
        {
          "output_type": "stream",
          "name": "stderr",
          "text": [
            "/usr/local/lib/python3.7/dist-packages/sklearn/utils/deprecation.py:87: FutureWarning: Function plot_roc_curve is deprecated; Function `plot_roc_curve` is deprecated in 1.0 and will be removed in 1.2. Use one of the class methods: RocCurveDisplay.from_predictions or RocCurveDisplay.from_estimator.\n",
            "  warnings.warn(msg, category=FutureWarning)\n"
          ]
        },
        {
          "output_type": "execute_result",
          "data": {
            "text/plain": [
              "<sklearn.metrics._plot.roc_curve.RocCurveDisplay at 0x7f26a86aaa50>"
            ]
          },
          "metadata": {},
          "execution_count": 25
        },
        {
          "output_type": "display_data",
          "data": {
            "image/png": "[encoded data removed]",
            "text/plain": [
              "<Figure size 432x288 with 1 Axes>"
            ]
          },
          "metadata": {
            "needs_background": "light"
          }
        }
      ]
    },
    {
      "cell_type": "markdown",
      "metadata": {
        "id": "AbMgNAmZmfJm"
      },
      "source": [
        "## TF-IDF using LogReg Classifier\n",
        "\n",
        "Term Frequency = No. of repetition of words in a sentence / No. of words in sentence\n",
        "\n",
        "Inverse Document Frequency = log(No. of sentences / No. of sentences containing words)\n",
        "\n",
        "TF(word) * IDF(word)"
      ]
    },
    {
      "cell_type": "markdown",
      "metadata": {
        "id": "hkfsaBy7QXXP"
      },
      "source": [
        "Limitations: Exclamation marks (Non-words) "
      ]
    },
    {
      "cell_type": "code",
      "metadata": {
        "id": "3WCEr1oXhoau"
      },
      "source": [
        "# build bigrams, put a limit on maximal number of features\n",
        "# and minimal word frequency\n",
        "# tf_idf = TfidfVectorizer(ngram_range=(1, 1), max_features=50000, min_df=2)\n",
        "tf_idf = TfidfVectorizer(ngram_range=(1, 3), max_features=50000, min_df=2)\n",
        "# multinomial logistic regression a.k.a softmax classifier\n",
        "logit = sklearn.linear_model.LogisticRegression(C=1, n_jobs=4, solver='lbfgs', verbose=1)\n"
      ],
      "execution_count": null,
      "outputs": []
    },
    {
      "cell_type": "markdown",
      "metadata": {
        "id": "LcgseayWqhYs"
      },
      "source": [
        "https://towardsdatascience.com/what-and-why-behind-fit-transform-vs-transform-in-scikit-learn-78f915cf96fe \n",
        "\n",
        "fit_transform() on training data but transform() on test data.\n",
        "\n",
        "fit_transform() scales the training data and learns the scaling parameters.\n",
        "\n",
        "We want scaling to be applied to our test data too but do not want it to be biased with our model."
      ]
    },
    {
      "cell_type": "code",
      "metadata": {
        "id": "WtqPCVWFYpfb"
      },
      "source": [
        "X_train_texts = tf_idf.fit_transform(train_texts)\n",
        "X_valid_texts = tf_idf.transform(valid_texts)"
      ],
      "execution_count": null,
      "outputs": []
    },
    {
      "cell_type": "code",
      "metadata": {
        "colab": {
          "base_uri": "https://localhost:8080/"
        },
        "id": "uDxBzT7cpyL_",
        "outputId": "aee8190b-aa3b-4e8f-fe86-1347ac9e158b"
      },
      "source": [
        "logit.fit(X_train_texts, y_train)"
      ],
      "execution_count": null,
      "outputs": [
        {
          "output_type": "stream",
          "name": "stderr",
          "text": [
            "[Parallel(n_jobs=4)]: Using backend LokyBackend with 4 concurrent workers.\n",
            "[Parallel(n_jobs=4)]: Done   1 out of   1 | elapsed:   15.9s finished\n"
          ]
        },
        {
          "output_type": "execute_result",
          "data": {
            "text/plain": [
              "LogisticRegression(C=1, n_jobs=4, verbose=1)"
            ]
          },
          "metadata": {},
          "execution_count": 54
        }
      ]
    },
    {
      "cell_type": "code",
      "metadata": {
        "id": "zuNebakswkF9"
      },
      "source": [
        "valid_pred = logit.predict(X_valid_texts)\n",
        "valid_pred_proba = logit.predict_proba(X_valid_texts)\n"
      ],
      "execution_count": null,
      "outputs": []
    },
    {
      "cell_type": "code",
      "metadata": {
        "id": "c0_S3uyxLIZB",
        "colab": {
          "base_uri": "https://localhost:8080/"
        },
        "outputId": "020599bc-6eb3-41a1-863a-e8c8574aff35"
      },
      "source": [
        "print(\"Accuracy:\", accuracy_score(y_valid, valid_pred))\n",
        "print(\"Precision score:\", precision_score(y_valid, valid_pred))\n",
        "print(\"Recall score:\", recall_score(y_valid, valid_pred))\n",
        "print(\"f1 score:\", f1_score(y_valid, valid_pred))\n",
        "print(\"ROC_AUC score:\", roc_auc_score(y_valid, valid_pred))"
      ],
      "execution_count": null,
      "outputs": [
        {
          "output_type": "stream",
          "name": "stdout",
          "text": [
            "Accuracy: 0.7216870998124213\n",
            "Precision score: 0.7389351109898729\n",
            "Recall score: 0.6858591932650768\n",
            "f1 score: 0.7114085697637201\n",
            "ROC_AUC score: 0.7216981623607583\n"
          ]
        }
      ]
    },
    {
      "cell_type": "code",
      "metadata": {
        "id": "THTQ_3klL9WW",
        "colab": {
          "base_uri": "https://localhost:8080/",
          "height": 351
        },
        "outputId": "0217a657-adee-47a9-fbe5-a45ce635fdb3"
      },
      "source": [
        "plot_roc_curve(logit, X_valid_texts, y_valid)"
      ],
      "execution_count": null,
      "outputs": [
        {
          "output_type": "stream",
          "name": "stderr",
          "text": [
            "/usr/local/lib/python3.7/dist-packages/sklearn/utils/deprecation.py:87: FutureWarning: Function plot_roc_curve is deprecated; Function `plot_roc_curve` is deprecated in 1.0 and will be removed in 1.2. Use one of the class methods: RocCurveDisplay.from_predictions or RocCurveDisplay.from_estimator.\n",
            "  warnings.warn(msg, category=FutureWarning)\n"
          ]
        },
        {
          "output_type": "execute_result",
          "data": {
            "text/plain": [
              "<sklearn.metrics._plot.roc_curve.RocCurveDisplay at 0x7f2668b090d0>"
            ]
          },
          "metadata": {},
          "execution_count": 57
        },
        {
          "output_type": "display_data",
          "data": {
            "image/png": "[encoded data removed]",
            "text/plain": [
              "<Figure size 432x288 with 1 Axes>"
            ]
          },
          "metadata": {
            "needs_background": "light"
          }
        }
      ]
    },
    {
      "cell_type": "markdown",
      "metadata": {
        "id": "-Q3xIUm-n7sD"
      },
      "source": [
        "## TF-IDF using SVM classifier"
      ]
    },
    {
      "cell_type": "code",
      "metadata": {
        "id": "4RfPKBDeqR2Z"
      },
      "source": [
        "from sklearn.svm import LinearSVC "
      ],
      "execution_count": null,
      "outputs": []
    },
    {
      "cell_type": "code",
      "metadata": {
        "id": "xC7_RJy0n4CB"
      },
      "source": [
        "# svm_model = SGDClassifier(penalty=\"elasticnet\", random_state=42, n_jobs=4)\n",
        "svm_model = LinearSVC()"
      ],
      "execution_count": null,
      "outputs": []
    },
    {
      "cell_type": "code",
      "metadata": {
        "id": "kw7-4Ue8oK1J"
      },
      "source": [
        "X_train_texts = tf_idf.fit_transform(train_texts)\n",
        "X_valid_texts = tf_idf.transform(valid_texts)"
      ],
      "execution_count": null,
      "outputs": []
    },
    {
      "cell_type": "code",
      "metadata": {
        "colab": {
          "base_uri": "https://localhost:8080/"
        },
        "id": "ffzJqU4_oK1K",
        "outputId": "56ac46fd-c1c0-4cb2-9571-871b559b9144"
      },
      "source": [
        "svm_model.fit(X_train_texts, y_train)"
      ],
      "execution_count": null,
      "outputs": [
        {
          "output_type": "execute_result",
          "data": {
            "text/plain": [
              "LinearSVC()"
            ]
          },
          "metadata": {},
          "execution_count": 35
        }
      ]
    },
    {
      "cell_type": "code",
      "metadata": {
        "id": "4Ms99VOioK1L"
      },
      "source": [
        "valid_pred = svm_model.predict(X_valid_texts)"
      ],
      "execution_count": null,
      "outputs": []
    },
    {
      "cell_type": "code",
      "metadata": {
        "colab": {
          "base_uri": "https://localhost:8080/"
        },
        "id": "-PmcHl2ZoK1L",
        "outputId": "57b0d236-2bbd-40a3-da7c-0eb2e971c704"
      },
      "source": [
        "print(\"Accuracy:\", accuracy_score(y_valid, valid_pred))\n",
        "print(\"Precision score:\", precision_score(y_valid, valid_pred))\n",
        "print(\"Recall score:\", recall_score(y_valid, valid_pred))\n",
        "print(\"f1 score:\", f1_score(y_valid, valid_pred))\n",
        "print(\"ROC_AUC score:\", roc_auc_score(y_valid, valid_pred))"
      ],
      "execution_count": null,
      "outputs": [
        {
          "output_type": "stream",
          "name": "stdout",
          "text": [
            "Accuracy: 0.6858928189826431\n",
            "Precision score: 0.6974158275314728\n",
            "Recall score: 0.6570506226955517\n",
            "f1 score: 0.6766317522009965\n",
            "ROC_AUC score: 0.6859017245599239\n"
          ]
        }
      ]
    },
    {
      "cell_type": "code",
      "metadata": {
        "colab": {
          "base_uri": "https://localhost:8080/",
          "height": 351
        },
        "id": "l4DMnqKFoK1M",
        "outputId": "0a1bc510-a2bb-4a7c-a468-0e561301fd81"
      },
      "source": [
        "plot_roc_curve(svm_model, X_valid_texts, y_valid)"
      ],
      "execution_count": null,
      "outputs": [
        {
          "output_type": "stream",
          "name": "stderr",
          "text": [
            "/usr/local/lib/python3.7/dist-packages/sklearn/utils/deprecation.py:87: FutureWarning: Function plot_roc_curve is deprecated; Function `plot_roc_curve` is deprecated in 1.0 and will be removed in 1.2. Use one of the class methods: RocCurveDisplay.from_predictions or RocCurveDisplay.from_estimator.\n",
            "  warnings.warn(msg, category=FutureWarning)\n"
          ]
        },
        {
          "output_type": "execute_result",
          "data": {
            "text/plain": [
              "<sklearn.metrics._plot.roc_curve.RocCurveDisplay at 0x7f26a5dc4a10>"
            ]
          },
          "metadata": {},
          "execution_count": 38
        },
        {
          "output_type": "display_data",
          "data": {
            "image/png": "[encoded data removed]",
            "text/plain": [
              "<Figure size 432x288 with 1 Axes>"
            ]
          },
          "metadata": {
            "needs_background": "light"
          }
        }
      ]
    },
    {
      "cell_type": "markdown",
      "metadata": {
        "id": "TpJbg4mB5-Xe"
      },
      "source": [
        "# Download weights of tf vectorizer and logistic regression "
      ]
    },
    {
      "cell_type": "code",
      "metadata": {
        "id": "rWLcAJ--4tjN"
      },
      "source": [
        "import pickle\n",
        "pickle.dump(tf_idf, open(\"tf_idf.pickle\", \"wb\"))\n",
        "pickle.dump(logit, open(\"logit.pickle\", \"wb\"))"
      ],
      "execution_count": null,
      "outputs": []
    },
    {
      "cell_type": "markdown",
      "metadata": {
        "id": "kCRVN46szuWV"
      },
      "source": [
        "# WANDB Visualization charts\n",
        "\n",
        "https://wandb.ai/shaokiat/tf-idf-model/runs/1pa00zrl?workspace=user-shaokiat "
      ]
    },
    {
      "cell_type": "markdown",
      "metadata": {
        "id": "L_rElNFMm41A"
      },
      "source": [
        "Accuracy with Stop words: 0.7132104442527325\n",
        "\n",
        "Accuracy without stop words: 0.7207215050614577\n",
        "\n",
        "Accuracy (ngram_range=(1, 3)): 0.7218374793228173\n",
        "\n",
        "Accuracy (ngram_range=(1, 4)): 0.7216870998124213"
      ]
    },
    {
      "cell_type": "code",
      "metadata": {
        "colab": {
          "base_uri": "https://localhost:8080/"
        },
        "id": "NhNK8yL8mo4V",
        "outputId": "cc8f3016-e659-41b6-d1e2-b32980450186"
      },
      "source": [
        "accuracy_score(y_valid, valid_pred)"
      ],
      "execution_count": null,
      "outputs": [
        {
          "output_type": "execute_result",
          "data": {
            "text/plain": [
              "0.6539965333565498"
            ]
          },
          "metadata": {},
          "execution_count": 149
        }
      ]
    },
    {
      "cell_type": "code",
      "metadata": {
        "id": "gFA1Sa1Ojqa4"
      },
      "source": [
        "def plot_confusion_matrix(actual, predicted, classes,\n",
        "                          normalize=False,\n",
        "                          title='Confusion matrix', figsize=(7,7),\n",
        "                          cmap=plt.cm.Blues, path_to_save_fig=None):\n",
        "    \"\"\"\n",
        "    This function prints and plots the confusion matrix.\n",
        "    Normalization can be applied by setting `normalize=True`.\n",
        "    \"\"\" \n",
        "    import itertools\n",
        "    from sklearn.metrics import confusion_matrix\n",
        "    cm = confusion_matrix(actual, predicted).T\n",
        "    if normalize:\n",
        "        cm = cm.astype('float') / cm.sum(axis=1)[:, np.newaxis]\n",
        "    \n",
        "    plt.figure(figsize=figsize)\n",
        "    plt.imshow(cm, interpolation='nearest', cmap=cmap)\n",
        "    plt.title(title)\n",
        "    plt.colorbar()\n",
        "    tick_marks = np.arange(len(classes))\n",
        "    plt.xticks(tick_marks, classes, rotation=90)\n",
        "    plt.yticks(tick_marks, classes)\n",
        "\n",
        "    fmt = '.2f' if normalize else 'd'\n",
        "    thresh = cm.max() / 2.\n",
        "    for i, j in itertools.product(range(cm.shape[0]), range(cm.shape[1])):\n",
        "        plt.text(j, i, format(cm[i, j], fmt),\n",
        "                 horizontalalignment=\"center\",\n",
        "                 color=\"white\" if cm[i, j] > thresh else \"black\")\n",
        "\n",
        "    plt.tight_layout()\n",
        "    plt.ylabel('Predicted label')\n",
        "    plt.xlabel('True label')\n",
        "    \n",
        "    if path_to_save_fig:\n",
        "        plt.savefig(path_to_save_fig, dpi=300, bbox_inches='tight')"
      ],
      "execution_count": null,
      "outputs": []
    },
    {
      "cell_type": "code",
      "metadata": {
        "colab": {
          "base_uri": "https://localhost:8080/",
          "height": 585
        },
        "id": "Amk0xK2sjr8Y",
        "outputId": "d45992c1-3223-4a89-bed7-624c2cd7eaaa"
      },
      "source": [
        "plot_confusion_matrix(y_valid, valid_pred, \n",
        "                      tfidf_logit_pipeline.named_steps['logit'].classes_, figsize=(8, 8))"
      ],
      "execution_count": null,
      "outputs": [
        {
          "output_type": "display_data",
          "data": {
            "image/png": "[encoded data removed]",
            "text/plain": [
              "<Figure size 576x576 with 2 Axes>"
            ]
          },
          "metadata": {
            "needs_background": "light"
          }
        }
      ]
    },
    {
      "cell_type": "markdown",
      "metadata": {
        "id": "t6fN70yGjxag"
      },
      "source": [
        "Confusion matrix is quite balanced. False negatives ~ False positives\n",
        "\n"
      ]
    },
    {
      "cell_type": "markdown",
      "metadata": {
        "id": "d22YgiYZtngA"
      },
      "source": [
        "# Iteration 2\n",
        "Improve model by separating Comments and Subreddits"
      ]
    },
    {
      "cell_type": "code",
      "metadata": {
        "id": "7P51W8nftR-e"
      },
      "source": [
        "subreddits = train_df['subreddit']\n",
        "train_subreddits, valid_subreddits = train_test_split(subreddits, random_state=17)"
      ],
      "execution_count": null,
      "outputs": []
    },
    {
      "cell_type": "code",
      "metadata": {
        "id": "h0BLf6j1twvr"
      },
      "source": [
        "tf_idf_texts = TfidfVectorizer(ngram_range=(1, 3), max_features=50000, min_df=2)\n",
        "tf_idf_subreddits = TfidfVectorizer(ngram_range=(1, 1))\n",
        "\n",
        "# Difference in ngram_range() as subreddits are normally 1-word"
      ],
      "execution_count": null,
      "outputs": []
    },
    {
      "cell_type": "code",
      "metadata": {
        "colab": {
          "base_uri": "https://localhost:8080/"
        },
        "id": "JL9VG1qsuNYH",
        "outputId": "450ee6c1-3118-4e07-9266-4f1d48fdf513"
      },
      "source": [
        "%%time\n",
        "X_train_texts = tf_idf_texts.fit_transform(train_texts)\n",
        "X_valid_texts = tf_idf_texts.transform(valid_texts)"
      ],
      "execution_count": null,
      "outputs": [
        {
          "output_type": "stream",
          "name": "stdout",
          "text": [
            "CPU times: user 1min 22s, sys: 2.95 s, total: 1min 25s\n",
            "Wall time: 1min 24s\n"
          ]
        }
      ]
    },
    {
      "cell_type": "code",
      "metadata": {
        "colab": {
          "base_uri": "https://localhost:8080/"
        },
        "id": "yptUIQSMuSVV",
        "outputId": "1970c6e5-8049-44a8-f153-d2fa335e6e85"
      },
      "source": [
        "X_train_texts.shape, X_valid_texts.shape"
      ],
      "execution_count": null,
      "outputs": [
        {
          "output_type": "execute_result",
          "data": {
            "text/plain": [
              "((758079, 50000), (252694, 50000))"
            ]
          },
          "metadata": {},
          "execution_count": 115
        }
      ]
    },
    {
      "cell_type": "code",
      "metadata": {
        "colab": {
          "base_uri": "https://localhost:8080/"
        },
        "id": "Y0R61c_HuTx2",
        "outputId": "54f9de43-6e9c-4c5a-8a59-51fce551b05e"
      },
      "source": [
        "%%time\n",
        "X_train_subreddits = tf_idf_subreddits.fit_transform(train_subreddits)\n",
        "X_valid_subreddits = tf_idf_subreddits.transform(valid_subreddits)"
      ],
      "execution_count": null,
      "outputs": [
        {
          "output_type": "stream",
          "name": "stdout",
          "text": [
            "CPU times: user 3.78 s, sys: 16.2 ms, total: 3.8 s\n",
            "Wall time: 3.82 s\n"
          ]
        }
      ]
    },
    {
      "cell_type": "code",
      "metadata": {
        "colab": {
          "base_uri": "https://localhost:8080/"
        },
        "id": "nPWi3f-PuYLd",
        "outputId": "b91e49fa-928e-4ed1-88d8-5a64aa5ad60d"
      },
      "source": [
        "X_train_subreddits.shape, X_valid_subreddits.shape\n"
      ],
      "execution_count": null,
      "outputs": [
        {
          "output_type": "execute_result",
          "data": {
            "text/plain": [
              "((758079, 13255), (252694, 13255))"
            ]
          },
          "metadata": {},
          "execution_count": 117
        }
      ]
    },
    {
      "cell_type": "markdown",
      "metadata": {
        "id": "b1lFEmOHuwgd"
      },
      "source": [
        "Stack both features together"
      ]
    },
    {
      "cell_type": "code",
      "metadata": {
        "id": "JDOJ0Ky7uaJr"
      },
      "source": [
        "from scipy.sparse import hstack\n",
        "X_train = hstack([X_train_texts, X_train_subreddits])\n",
        "X_valid = hstack([X_valid_texts, X_valid_subreddits])"
      ],
      "execution_count": null,
      "outputs": []
    },
    {
      "cell_type": "code",
      "metadata": {
        "colab": {
          "base_uri": "https://localhost:8080/"
        },
        "id": "INcdPyO3uu49",
        "outputId": "321aec6b-3dea-48a2-856f-047a893ccdb2"
      },
      "source": [
        "X_train.shape, X_valid.shape"
      ],
      "execution_count": null,
      "outputs": [
        {
          "output_type": "execute_result",
          "data": {
            "text/plain": [
              "((758079, 63255), (252694, 63255))"
            ]
          },
          "metadata": {},
          "execution_count": 119
        }
      ]
    },
    {
      "cell_type": "code",
      "metadata": {
        "colab": {
          "base_uri": "https://localhost:8080/"
        },
        "id": "UnyI5TARuzIZ",
        "outputId": "79dbbee5-e2c3-4684-f761-1539041dfbaf"
      },
      "source": [
        "logit.fit(X_train, y_train)"
      ],
      "execution_count": null,
      "outputs": [
        {
          "output_type": "stream",
          "name": "stderr",
          "text": [
            "[Parallel(n_jobs=4)]: Using backend LokyBackend with 4 concurrent workers.\n",
            "[Parallel(n_jobs=4)]: Done   1 out of   1 | elapsed:   18.7s finished\n"
          ]
        },
        {
          "output_type": "execute_result",
          "data": {
            "text/plain": [
              "LogisticRegression(C=1, class_weight=None, dual=False, fit_intercept=True,\n",
              "                   intercept_scaling=1, l1_ratio=None, max_iter=100,\n",
              "                   multi_class='auto', n_jobs=4, penalty='l2',\n",
              "                   random_state=None, solver='lbfgs', tol=0.0001, verbose=1,\n",
              "                   warm_start=False)"
            ]
          },
          "metadata": {},
          "execution_count": 120
        }
      ]
    },
    {
      "cell_type": "markdown",
      "metadata": {
        "id": "Ewtt0pfVpKi5"
      },
      "source": [
        "Accuracy with ngram(1,2): 0.7237844982468915\n",
        "\n",
        "Accuracy with ngram(1,3): 0.7253001654174615"
      ]
    },
    {
      "cell_type": "markdown",
      "metadata": {
        "id": "RgHdu_k4V-fj"
      },
      "source": [
        "# Evaluation Metrics"
      ]
    },
    {
      "cell_type": "code",
      "metadata": {
        "colab": {
          "base_uri": "https://localhost:8080/"
        },
        "id": "HEIxiYv-7upe",
        "outputId": "8d943174-b3b0-486a-9bf2-35c490aa595b"
      },
      "source": [
        "print(\"Precision score:\", precision_score(y_valid, valid_pred))\n",
        "print(\"Recall score:\", recall_score(y_valid, valid_pred))\n",
        "print(\"f1 score:\", f1_score(y_valid, valid_pred))\n"
      ],
      "execution_count": null,
      "outputs": [
        {
          "output_type": "stream",
          "name": "stdout",
          "text": [
            "Precision score: 0.7397628085887196\n",
            "Recall score: 0.695401389394395\n",
            "f1 score: 0.7168964856256091\n"
          ]
        }
      ]
    },
    {
      "cell_type": "code",
      "metadata": {
        "colab": {
          "base_uri": "https://localhost:8080/",
          "height": 279
        },
        "id": "OJCDy9Vs6xUO",
        "outputId": "2ed70cc9-5be4-4773-9a03-ef340be4ab19"
      },
      "source": [
        "plot_roc_curve(logit, X_valid, y_valid)\n",
        "plt.show()"
      ],
      "execution_count": null,
      "outputs": [
        {
          "output_type": "display_data",
          "data": {
            "image/png": "[encoded data removed]",
            "text/plain": [
              "<Figure size 432x288 with 1 Axes>"
            ]
          },
          "metadata": {
            "needs_background": "light"
          }
        }
      ]
    },
    {
      "cell_type": "code",
      "metadata": {
        "id": "nJEXyVflq9cF"
      },
      "source": [
        "from sklearn.metrics import confusion_matrix\n",
        "import matplotlib.pyplot as plt\n",
        "import pandas as pd"
      ],
      "execution_count": null,
      "outputs": []
    },
    {
      "cell_type": "code",
      "metadata": {
        "colab": {
          "base_uri": "https://localhost:8080/",
          "height": 419
        },
        "id": "HCaTK7dGrdQa",
        "outputId": "c6216184-c756-4e9d-b226-44e866fea01c"
      },
      "source": [
        "train_data = pd.read_csv(\"appended_df.csv\")\n",
        "train_data = train_data.drop(['Predicted label', 'label', 'Special characters?', 'Comment length', 'caps'], axis = 1)\n",
        "train_data"
      ],
      "execution_count": null,
      "outputs": [
        {
          "output_type": "execute_result",
          "data": {
            "text/html": [
              "<div>\n",
              "<style scoped>\n",
              "    .dataframe tbody tr th:only-of-type {\n",
              "        vertical-align: middle;\n",
              "    }\n",
              "\n",
              "    .dataframe tbody tr th {\n",
              "        vertical-align: top;\n",
              "    }\n",
              "\n",
              "    .dataframe thead th {\n",
              "        text-align: right;\n",
              "    }\n",
              "</style>\n",
              "<table border=\"1\" class=\"dataframe\">\n",
              "  <thead>\n",
              "    <tr style=\"text-align: right;\">\n",
              "      <th></th>\n",
              "      <th>comment</th>\n",
              "    </tr>\n",
              "  </thead>\n",
              "  <tbody>\n",
              "    <tr>\n",
              "      <th>0</th>\n",
              "      <td>Yeah they better nerf amumu NOW, Im sick of th...</td>\n",
              "    </tr>\n",
              "    <tr>\n",
              "      <th>1</th>\n",
              "      <td>the population matters, and it especially matt...</td>\n",
              "    </tr>\n",
              "    <tr>\n",
              "      <th>2</th>\n",
              "      <td>Exactly, the world most of us live in.</td>\n",
              "    </tr>\n",
              "    <tr>\n",
              "      <th>3</th>\n",
              "      <td>It's Chinese, it has to be cruel!</td>\n",
              "    </tr>\n",
              "    <tr>\n",
              "      <th>4</th>\n",
              "      <td>Stupid kids are job creators.</td>\n",
              "    </tr>\n",
              "    <tr>\n",
              "      <th>...</th>\n",
              "      <td>...</td>\n",
              "    </tr>\n",
              "    <tr>\n",
              "      <th>13152</th>\n",
              "      <td>Because spikes.</td>\n",
              "    </tr>\n",
              "    <tr>\n",
              "      <th>13153</th>\n",
              "      <td>Cole also felt weird when he saw himself in th...</td>\n",
              "    </tr>\n",
              "    <tr>\n",
              "      <th>13154</th>\n",
              "      <td>I would notice the \"lazy nipple\", but it would...</td>\n",
              "    </tr>\n",
              "    <tr>\n",
              "      <th>13155</th>\n",
              "      <td>i like the mental image of you trying that and...</td>\n",
              "    </tr>\n",
              "    <tr>\n",
              "      <th>13156</th>\n",
              "      <td>Start and finish every task yester</td>\n",
              "    </tr>\n",
              "  </tbody>\n",
              "</table>\n",
              "<p>13157 rows × 1 columns</p>\n",
              "</div>"
            ],
            "text/plain": [
              "                                                 comment\n",
              "0      Yeah they better nerf amumu NOW, Im sick of th...\n",
              "1      the population matters, and it especially matt...\n",
              "2                 Exactly, the world most of us live in.\n",
              "3                      It's Chinese, it has to be cruel!\n",
              "4                          Stupid kids are job creators.\n",
              "...                                                  ...\n",
              "13152                                    Because spikes.\n",
              "13153  Cole also felt weird when he saw himself in th...\n",
              "13154  I would notice the \"lazy nipple\", but it would...\n",
              "13155  i like the mental image of you trying that and...\n",
              "13156                 Start and finish every task yester\n",
              "\n",
              "[13157 rows x 1 columns]"
            ]
          },
          "metadata": {},
          "execution_count": 75
        }
      ]
    },
    {
      "cell_type": "code",
      "metadata": {
        "id": "e1Bc5hGPrAnN"
      },
      "source": [
        "sub_pops = ['Special characters?','Comment length','caps']"
      ],
      "execution_count": null,
      "outputs": []
    },
    {
      "cell_type": "code",
      "metadata": {
        "colab": {
          "base_uri": "https://localhost:8080/",
          "height": 221
        },
        "id": "xwFprBAZrDBA",
        "outputId": "421c003f-3576-4ce6-8c6d-beb3dd12c152"
      },
      "source": [
        "cm = pd.DataFrame(confusion_matrix(train_data['label'], train_data['Predicted label']))\n",
        "cm.columns = ['True Non Sarcastic','True Sarcastic']\n",
        "cm.index = ['Predicted Non Sarcastic','Predicted Sarcastic']\n",
        "ref = pd.DataFrame([['TN','FN'],['FP','TP']])\n",
        "display(cm),display(ref)"
      ],
      "execution_count": null,
      "outputs": [
        {
          "output_type": "display_data",
          "data": {
            "text/html": [
              "<div>\n",
              "<style scoped>\n",
              "    .dataframe tbody tr th:only-of-type {\n",
              "        vertical-align: middle;\n",
              "    }\n",
              "\n",
              "    .dataframe tbody tr th {\n",
              "        vertical-align: top;\n",
              "    }\n",
              "\n",
              "    .dataframe thead th {\n",
              "        text-align: right;\n",
              "    }\n",
              "</style>\n",
              "<table border=\"1\" class=\"dataframe\">\n",
              "  <thead>\n",
              "    <tr style=\"text-align: right;\">\n",
              "      <th></th>\n",
              "      <th>True Non Sarcastic</th>\n",
              "      <th>True Sarcastic</th>\n",
              "    </tr>\n",
              "  </thead>\n",
              "  <tbody>\n",
              "    <tr>\n",
              "      <th>Predicted Non Sarcastic</th>\n",
              "      <td>80371</td>\n",
              "      <td>20462</td>\n",
              "    </tr>\n",
              "    <tr>\n",
              "      <th>Predicted Sarcastic</th>\n",
              "      <td>28193</td>\n",
              "      <td>73123</td>\n",
              "    </tr>\n",
              "  </tbody>\n",
              "</table>\n",
              "</div>"
            ],
            "text/plain": [
              "                         True Non Sarcastic  True Sarcastic\n",
              "Predicted Non Sarcastic               80371           20462\n",
              "Predicted Sarcastic                   28193           73123"
            ]
          },
          "metadata": {}
        },
        {
          "output_type": "display_data",
          "data": {
            "text/html": [
              "<div>\n",
              "<style scoped>\n",
              "    .dataframe tbody tr th:only-of-type {\n",
              "        vertical-align: middle;\n",
              "    }\n",
              "\n",
              "    .dataframe tbody tr th {\n",
              "        vertical-align: top;\n",
              "    }\n",
              "\n",
              "    .dataframe thead th {\n",
              "        text-align: right;\n",
              "    }\n",
              "</style>\n",
              "<table border=\"1\" class=\"dataframe\">\n",
              "  <thead>\n",
              "    <tr style=\"text-align: right;\">\n",
              "      <th></th>\n",
              "      <th>0</th>\n",
              "      <th>1</th>\n",
              "    </tr>\n",
              "  </thead>\n",
              "  <tbody>\n",
              "    <tr>\n",
              "      <th>0</th>\n",
              "      <td>TN</td>\n",
              "      <td>FN</td>\n",
              "    </tr>\n",
              "    <tr>\n",
              "      <th>1</th>\n",
              "      <td>FP</td>\n",
              "      <td>TP</td>\n",
              "    </tr>\n",
              "  </tbody>\n",
              "</table>\n",
              "</div>"
            ],
            "text/plain": [
              "    0   1\n",
              "0  TN  FN\n",
              "1  FP  TP"
            ]
          },
          "metadata": {}
        },
        {
          "output_type": "execute_result",
          "data": {
            "text/plain": [
              "(None, None)"
            ]
          },
          "metadata": {},
          "execution_count": 10
        }
      ]
    },
    {
      "cell_type": "markdown",
      "metadata": {
        "id": "QApGNdkLE149"
      },
      "source": [
        "# Single Instance test"
      ]
    },
    {
      "cell_type": "code",
      "metadata": {
        "id": "SIMZxNlWCvlL"
      },
      "source": [
        "def predict_sarcasm(s):\n",
        "  testing = tf_idf.transform([s])\n",
        "  pred = logit.predict_proba(testing)\n",
        "  print(pred)\n",
        "  if pred[0][1] >= 0.5: # not too sure which is which though\n",
        "    return \"It's a sarcasm\"\n",
        "  else:\n",
        "    return \"Not a sarcasm\""
      ],
      "execution_count": null,
      "outputs": []
    },
    {
      "cell_type": "code",
      "metadata": {
        "colab": {
          "base_uri": "https://localhost:8080/",
          "height": 52
        },
        "id": "AZjVCpSOHrX3",
        "outputId": "ff18b28c-22d7-4e88-e4fe-4af6a19959fd"
      },
      "source": [
        "test1 = \"is this a sarcasm?\"\n",
        "predict_sarcasm(test1)"
      ],
      "execution_count": null,
      "outputs": [
        {
          "output_type": "stream",
          "name": "stdout",
          "text": [
            "[[0.64595959 0.35404041]]\n"
          ]
        },
        {
          "output_type": "execute_result",
          "data": {
            "application/vnd.google.colaboratory.intrinsic+json": {
              "type": "string"
            },
            "text/plain": [
              "'Not a sarcasm'"
            ]
          },
          "metadata": {},
          "execution_count": 70
        }
      ]
    },
    {
      "cell_type": "code",
      "metadata": {
        "colab": {
          "base_uri": "https://localhost:8080/",
          "height": 52
        },
        "id": "b5oJd11BHrH-",
        "outputId": "8b51c682-45ba-428c-fdf1-7165ae597b6e"
      },
      "source": [
        "test2 = \"Only a Took would believe that...\"\n",
        "predict_sarcasm(test2)"
      ],
      "execution_count": null,
      "outputs": [
        {
          "output_type": "stream",
          "name": "stdout",
          "text": [
            "[[0.58597352 0.41402648]]\n"
          ]
        },
        {
          "output_type": "execute_result",
          "data": {
            "application/vnd.google.colaboratory.intrinsic+json": {
              "type": "string"
            },
            "text/plain": [
              "'Not a sarcasm'"
            ]
          },
          "metadata": {},
          "execution_count": 188
        }
      ]
    },
    {
      "cell_type": "code",
      "metadata": {
        "colab": {
          "base_uri": "https://localhost:8080/"
        },
        "id": "6NdmRA2EgXAi",
        "outputId": "c3fce9f8-f0f1-4eff-8c56-c6efe0879def"
      },
      "source": [
        "train_data.head()\n",
        "print(np.array(train_data).reshape(-1))"
      ],
      "execution_count": null,
      "outputs": [
        {
          "output_type": "stream",
          "name": "stdout",
          "text": [
            "['Yeah they better nerf amumu NOW, Im sick of this bs'\n",
            " \"the population matters, and it especially matters when i'm a competitive player and the game is esports focused if i only played what was trendy i wouldn't be a halo player\"\n",
            " 'Exactly, the world most of us live in.' ...\n",
            " 'I would notice the \"lazy nipple\", but it wouldn\\'t bother me at all.'\n",
            " 'i like the mental image of you trying that and getting your ass beat'\n",
            " 'Start and finish every task yester']\n"
          ]
        }
      ]
    },
    {
      "cell_type": "code",
      "metadata": {
        "colab": {
          "base_uri": "https://localhost:8080/",
          "height": 354
        },
        "id": "VRW7W9MjfngW",
        "outputId": "01bded8e-5b2d-42bb-d685-8ec0beb13c73"
      },
      "source": [
        "testing = tf_idf.transform(np.array(train_data).reshape(-1))\n",
        "pred = logit.predict_proba(testing)\n",
        "print(pred[:10])"
      ],
      "execution_count": null,
      "outputs": [
        {
          "output_type": "error",
          "ename": "AttributeError",
          "evalue": "ignored",
          "traceback": [
            "\u001b[0;31m---------------------------------------------------------------------------\u001b[0m",
            "\u001b[0;31mAttributeError\u001b[0m                            Traceback (most recent call last)",
            "\u001b[0;32m<ipython-input-223-fe65d7b88281>\u001b[0m in \u001b[0;36m<module>\u001b[0;34m()\u001b[0m\n\u001b[0;32m----> 1\u001b[0;31m \u001b[0mtesting\u001b[0m \u001b[0;34m=\u001b[0m \u001b[0mtf_idf\u001b[0m\u001b[0;34m.\u001b[0m\u001b[0mtransform\u001b[0m\u001b[0;34m(\u001b[0m\u001b[0mnp\u001b[0m\u001b[0;34m.\u001b[0m\u001b[0marray\u001b[0m\u001b[0;34m(\u001b[0m\u001b[0mtrain_data\u001b[0m\u001b[0;34m)\u001b[0m\u001b[0;34m.\u001b[0m\u001b[0mreshape\u001b[0m\u001b[0;34m(\u001b[0m\u001b[0;34m-\u001b[0m\u001b[0;36m1\u001b[0m\u001b[0;34m)\u001b[0m\u001b[0;34m)\u001b[0m\u001b[0;34m\u001b[0m\u001b[0;34m\u001b[0m\u001b[0m\n\u001b[0m\u001b[1;32m      2\u001b[0m \u001b[0mpred\u001b[0m \u001b[0;34m=\u001b[0m \u001b[0mlogit\u001b[0m\u001b[0;34m.\u001b[0m\u001b[0mpredict_proba\u001b[0m\u001b[0;34m(\u001b[0m\u001b[0mtesting\u001b[0m\u001b[0;34m)\u001b[0m\u001b[0;34m\u001b[0m\u001b[0;34m\u001b[0m\u001b[0m\n\u001b[1;32m      3\u001b[0m \u001b[0mprint\u001b[0m\u001b[0;34m(\u001b[0m\u001b[0mpred\u001b[0m\u001b[0;34m[\u001b[0m\u001b[0;34m:\u001b[0m\u001b[0;36m10\u001b[0m\u001b[0;34m]\u001b[0m\u001b[0;34m)\u001b[0m\u001b[0;34m\u001b[0m\u001b[0;34m\u001b[0m\u001b[0m\n",
            "\u001b[0;32m/usr/local/lib/python3.7/dist-packages/sklearn/feature_extraction/text.py\u001b[0m in \u001b[0;36mtransform\u001b[0;34m(self, raw_documents, copy)\u001b[0m\n\u001b[1;32m   1896\u001b[0m                    \"be removed in 0.24.\")\n\u001b[1;32m   1897\u001b[0m             \u001b[0mwarnings\u001b[0m\u001b[0;34m.\u001b[0m\u001b[0mwarn\u001b[0m\u001b[0;34m(\u001b[0m\u001b[0mmsg\u001b[0m\u001b[0;34m,\u001b[0m \u001b[0mFutureWarning\u001b[0m\u001b[0;34m)\u001b[0m\u001b[0;34m\u001b[0m\u001b[0;34m\u001b[0m\u001b[0m\n\u001b[0;32m-> 1898\u001b[0;31m         \u001b[0mX\u001b[0m \u001b[0;34m=\u001b[0m \u001b[0msuper\u001b[0m\u001b[0;34m(\u001b[0m\u001b[0;34m)\u001b[0m\u001b[0;34m.\u001b[0m\u001b[0mtransform\u001b[0m\u001b[0;34m(\u001b[0m\u001b[0mraw_documents\u001b[0m\u001b[0;34m)\u001b[0m\u001b[0;34m\u001b[0m\u001b[0;34m\u001b[0m\u001b[0m\n\u001b[0m\u001b[1;32m   1899\u001b[0m         \u001b[0;32mreturn\u001b[0m \u001b[0mself\u001b[0m\u001b[0;34m.\u001b[0m\u001b[0m_tfidf\u001b[0m\u001b[0;34m.\u001b[0m\u001b[0mtransform\u001b[0m\u001b[0;34m(\u001b[0m\u001b[0mX\u001b[0m\u001b[0;34m,\u001b[0m \u001b[0mcopy\u001b[0m\u001b[0;34m=\u001b[0m\u001b[0;32mFalse\u001b[0m\u001b[0;34m)\u001b[0m\u001b[0;34m\u001b[0m\u001b[0;34m\u001b[0m\u001b[0m\n\u001b[1;32m   1900\u001b[0m \u001b[0;34m\u001b[0m\u001b[0m\n",
            "\u001b[0;32m/usr/local/lib/python3.7/dist-packages/sklearn/feature_extraction/text.py\u001b[0m in \u001b[0;36mtransform\u001b[0;34m(self, raw_documents)\u001b[0m\n\u001b[1;32m   1268\u001b[0m \u001b[0;34m\u001b[0m\u001b[0m\n\u001b[1;32m   1269\u001b[0m         \u001b[0;31m# use the same matrix-building strategy as fit_transform\u001b[0m\u001b[0;34m\u001b[0m\u001b[0;34m\u001b[0m\u001b[0;34m\u001b[0m\u001b[0m\n\u001b[0;32m-> 1270\u001b[0;31m         \u001b[0m_\u001b[0m\u001b[0;34m,\u001b[0m \u001b[0mX\u001b[0m \u001b[0;34m=\u001b[0m \u001b[0mself\u001b[0m\u001b[0;34m.\u001b[0m\u001b[0m_count_vocab\u001b[0m\u001b[0;34m(\u001b[0m\u001b[0mraw_documents\u001b[0m\u001b[0;34m,\u001b[0m \u001b[0mfixed_vocab\u001b[0m\u001b[0;34m=\u001b[0m\u001b[0;32mTrue\u001b[0m\u001b[0;34m)\u001b[0m\u001b[0;34m\u001b[0m\u001b[0;34m\u001b[0m\u001b[0m\n\u001b[0m\u001b[1;32m   1271\u001b[0m         \u001b[0;32mif\u001b[0m \u001b[0mself\u001b[0m\u001b[0;34m.\u001b[0m\u001b[0mbinary\u001b[0m\u001b[0;34m:\u001b[0m\u001b[0;34m\u001b[0m\u001b[0;34m\u001b[0m\u001b[0m\n\u001b[1;32m   1272\u001b[0m             \u001b[0mX\u001b[0m\u001b[0;34m.\u001b[0m\u001b[0mdata\u001b[0m\u001b[0;34m.\u001b[0m\u001b[0mfill\u001b[0m\u001b[0;34m(\u001b[0m\u001b[0;36m1\u001b[0m\u001b[0;34m)\u001b[0m\u001b[0;34m\u001b[0m\u001b[0;34m\u001b[0m\u001b[0m\n",
            "\u001b[0;32m/usr/local/lib/python3.7/dist-packages/sklearn/feature_extraction/text.py\u001b[0m in \u001b[0;36m_count_vocab\u001b[0;34m(self, raw_documents, fixed_vocab)\u001b[0m\n\u001b[1;32m   1129\u001b[0m         \u001b[0;32mfor\u001b[0m \u001b[0mdoc\u001b[0m \u001b[0;32min\u001b[0m \u001b[0mraw_documents\u001b[0m\u001b[0;34m:\u001b[0m\u001b[0;34m\u001b[0m\u001b[0;34m\u001b[0m\u001b[0m\n\u001b[1;32m   1130\u001b[0m             \u001b[0mfeature_counter\u001b[0m \u001b[0;34m=\u001b[0m \u001b[0;34m{\u001b[0m\u001b[0;34m}\u001b[0m\u001b[0;34m\u001b[0m\u001b[0;34m\u001b[0m\u001b[0m\n\u001b[0;32m-> 1131\u001b[0;31m             \u001b[0;32mfor\u001b[0m \u001b[0mfeature\u001b[0m \u001b[0;32min\u001b[0m \u001b[0manalyze\u001b[0m\u001b[0;34m(\u001b[0m\u001b[0mdoc\u001b[0m\u001b[0;34m)\u001b[0m\u001b[0;34m:\u001b[0m\u001b[0;34m\u001b[0m\u001b[0;34m\u001b[0m\u001b[0m\n\u001b[0m\u001b[1;32m   1132\u001b[0m                 \u001b[0;32mtry\u001b[0m\u001b[0;34m:\u001b[0m\u001b[0;34m\u001b[0m\u001b[0;34m\u001b[0m\u001b[0m\n\u001b[1;32m   1133\u001b[0m                     \u001b[0mfeature_idx\u001b[0m \u001b[0;34m=\u001b[0m \u001b[0mvocabulary\u001b[0m\u001b[0;34m[\u001b[0m\u001b[0mfeature\u001b[0m\u001b[0;34m]\u001b[0m\u001b[0;34m\u001b[0m\u001b[0;34m\u001b[0m\u001b[0m\n",
            "\u001b[0;32m/usr/local/lib/python3.7/dist-packages/sklearn/feature_extraction/text.py\u001b[0m in \u001b[0;36m_analyze\u001b[0;34m(doc, analyzer, tokenizer, ngrams, preprocessor, decoder, stop_words)\u001b[0m\n\u001b[1;32m    101\u001b[0m     \u001b[0;32melse\u001b[0m\u001b[0;34m:\u001b[0m\u001b[0;34m\u001b[0m\u001b[0;34m\u001b[0m\u001b[0m\n\u001b[1;32m    102\u001b[0m         \u001b[0;32mif\u001b[0m \u001b[0mpreprocessor\u001b[0m \u001b[0;32mis\u001b[0m \u001b[0;32mnot\u001b[0m \u001b[0;32mNone\u001b[0m\u001b[0;34m:\u001b[0m\u001b[0;34m\u001b[0m\u001b[0;34m\u001b[0m\u001b[0m\n\u001b[0;32m--> 103\u001b[0;31m             \u001b[0mdoc\u001b[0m \u001b[0;34m=\u001b[0m \u001b[0mpreprocessor\u001b[0m\u001b[0;34m(\u001b[0m\u001b[0mdoc\u001b[0m\u001b[0;34m)\u001b[0m\u001b[0;34m\u001b[0m\u001b[0;34m\u001b[0m\u001b[0m\n\u001b[0m\u001b[1;32m    104\u001b[0m         \u001b[0;32mif\u001b[0m \u001b[0mtokenizer\u001b[0m \u001b[0;32mis\u001b[0m \u001b[0;32mnot\u001b[0m \u001b[0;32mNone\u001b[0m\u001b[0;34m:\u001b[0m\u001b[0;34m\u001b[0m\u001b[0;34m\u001b[0m\u001b[0m\n\u001b[1;32m    105\u001b[0m             \u001b[0mdoc\u001b[0m \u001b[0;34m=\u001b[0m \u001b[0mtokenizer\u001b[0m\u001b[0;34m(\u001b[0m\u001b[0mdoc\u001b[0m\u001b[0;34m)\u001b[0m\u001b[0;34m\u001b[0m\u001b[0;34m\u001b[0m\u001b[0m\n",
            "\u001b[0;32m/usr/local/lib/python3.7/dist-packages/sklearn/feature_extraction/text.py\u001b[0m in \u001b[0;36m_preprocess\u001b[0;34m(doc, accent_function, lower)\u001b[0m\n\u001b[1;32m     66\u001b[0m     \"\"\"\n\u001b[1;32m     67\u001b[0m     \u001b[0;32mif\u001b[0m \u001b[0mlower\u001b[0m\u001b[0;34m:\u001b[0m\u001b[0;34m\u001b[0m\u001b[0;34m\u001b[0m\u001b[0m\n\u001b[0;32m---> 68\u001b[0;31m         \u001b[0mdoc\u001b[0m \u001b[0;34m=\u001b[0m \u001b[0mdoc\u001b[0m\u001b[0;34m.\u001b[0m\u001b[0mlower\u001b[0m\u001b[0;34m(\u001b[0m\u001b[0;34m)\u001b[0m\u001b[0;34m\u001b[0m\u001b[0;34m\u001b[0m\u001b[0m\n\u001b[0m\u001b[1;32m     69\u001b[0m     \u001b[0;32mif\u001b[0m \u001b[0maccent_function\u001b[0m \u001b[0;32mis\u001b[0m \u001b[0;32mnot\u001b[0m \u001b[0;32mNone\u001b[0m\u001b[0;34m:\u001b[0m\u001b[0;34m\u001b[0m\u001b[0;34m\u001b[0m\u001b[0m\n\u001b[1;32m     70\u001b[0m         \u001b[0mdoc\u001b[0m \u001b[0;34m=\u001b[0m \u001b[0maccent_function\u001b[0m\u001b[0;34m(\u001b[0m\u001b[0mdoc\u001b[0m\u001b[0;34m)\u001b[0m\u001b[0;34m\u001b[0m\u001b[0;34m\u001b[0m\u001b[0m\n",
            "\u001b[0;31mAttributeError\u001b[0m: 'int' object has no attribute 'lower'"
          ]
        }
      ]
    },
    {
      "cell_type": "code",
      "metadata": {
        "id": "wA6rzlW_iaVL"
      },
      "source": [
        "preds = pd.DataFrame(pred)\n",
        "preds = preds.drop(0, axis = 1)"
      ],
      "execution_count": null,
      "outputs": []
    },
    {
      "cell_type": "code",
      "metadata": {
        "colab": {
          "base_uri": "https://localhost:8080/",
          "height": 635
        },
        "id": "7bXWwBMbjNwU",
        "outputId": "39ad63cc-7ae6-42a7-897d-884e332ef365"
      },
      "source": [
        "train_data = pd.read_csv(\"appended_df.csv\")\n",
        "result = pd.concat([train_data, preds], axis =1)\n",
        "result"
      ],
      "execution_count": null,
      "outputs": [
        {
          "output_type": "execute_result",
          "data": {
            "text/html": [
              "<div>\n",
              "<style scoped>\n",
              "    .dataframe tbody tr th:only-of-type {\n",
              "        vertical-align: middle;\n",
              "    }\n",
              "\n",
              "    .dataframe tbody tr th {\n",
              "        vertical-align: top;\n",
              "    }\n",
              "\n",
              "    .dataframe thead th {\n",
              "        text-align: right;\n",
              "    }\n",
              "</style>\n",
              "<table border=\"1\" class=\"dataframe\">\n",
              "  <thead>\n",
              "    <tr style=\"text-align: right;\">\n",
              "      <th></th>\n",
              "      <th>comment</th>\n",
              "      <th>Predicted label</th>\n",
              "      <th>label</th>\n",
              "      <th>Special characters?</th>\n",
              "      <th>Comment length</th>\n",
              "      <th>caps</th>\n",
              "      <th>1</th>\n",
              "    </tr>\n",
              "  </thead>\n",
              "  <tbody>\n",
              "    <tr>\n",
              "      <th>0</th>\n",
              "      <td>Yeah they better nerf amumu NOW, Im sick of th...</td>\n",
              "      <td>1</td>\n",
              "      <td>1</td>\n",
              "      <td>False</td>\n",
              "      <td>Long</td>\n",
              "      <td>All</td>\n",
              "      <td>0.738999</td>\n",
              "    </tr>\n",
              "    <tr>\n",
              "      <th>1</th>\n",
              "      <td>the population matters, and it especially matt...</td>\n",
              "      <td>0</td>\n",
              "      <td>0</td>\n",
              "      <td>False</td>\n",
              "      <td>Very Long</td>\n",
              "      <td>None</td>\n",
              "      <td>0.418853</td>\n",
              "    </tr>\n",
              "    <tr>\n",
              "      <th>2</th>\n",
              "      <td>Exactly, the world most of us live in.</td>\n",
              "      <td>0</td>\n",
              "      <td>1</td>\n",
              "      <td>False</td>\n",
              "      <td>Medium</td>\n",
              "      <td>50th</td>\n",
              "      <td>0.354894</td>\n",
              "    </tr>\n",
              "    <tr>\n",
              "      <th>3</th>\n",
              "      <td>It's Chinese, it has to be cruel!</td>\n",
              "      <td>1</td>\n",
              "      <td>1</td>\n",
              "      <td>True</td>\n",
              "      <td>Medium</td>\n",
              "      <td>All</td>\n",
              "      <td>0.368817</td>\n",
              "    </tr>\n",
              "    <tr>\n",
              "      <th>4</th>\n",
              "      <td>Stupid kids are job creators.</td>\n",
              "      <td>1</td>\n",
              "      <td>0</td>\n",
              "      <td>False</td>\n",
              "      <td>Short</td>\n",
              "      <td>75th</td>\n",
              "      <td>0.655003</td>\n",
              "    </tr>\n",
              "    <tr>\n",
              "      <th>...</th>\n",
              "      <td>...</td>\n",
              "      <td>...</td>\n",
              "      <td>...</td>\n",
              "      <td>...</td>\n",
              "      <td>...</td>\n",
              "      <td>...</td>\n",
              "      <td>...</td>\n",
              "    </tr>\n",
              "    <tr>\n",
              "      <th>202144</th>\n",
              "      <td>Simples.</td>\n",
              "      <td>0</td>\n",
              "      <td>0</td>\n",
              "      <td>False</td>\n",
              "      <td>Short</td>\n",
              "      <td>All</td>\n",
              "      <td>0.376479</td>\n",
              "    </tr>\n",
              "    <tr>\n",
              "      <th>202145</th>\n",
              "      <td>He's white and fighting for state's rights, th...</td>\n",
              "      <td>1</td>\n",
              "      <td>1</td>\n",
              "      <td>False</td>\n",
              "      <td>Long</td>\n",
              "      <td>25th</td>\n",
              "      <td>0.648301</td>\n",
              "    </tr>\n",
              "    <tr>\n",
              "      <th>202146</th>\n",
              "      <td>Blatant cultural appropriation</td>\n",
              "      <td>1</td>\n",
              "      <td>1</td>\n",
              "      <td>False</td>\n",
              "      <td>Short</td>\n",
              "      <td>50th</td>\n",
              "      <td>0.376479</td>\n",
              "    </tr>\n",
              "    <tr>\n",
              "      <th>202147</th>\n",
              "      <td>With Britain First here, it's counterparts in ...</td>\n",
              "      <td>0</td>\n",
              "      <td>0</td>\n",
              "      <td>False</td>\n",
              "      <td>Very Long</td>\n",
              "      <td>75th</td>\n",
              "      <td>0.430493</td>\n",
              "    </tr>\n",
              "    <tr>\n",
              "      <th>202148</th>\n",
              "      <td>GERDEN FURDIE</td>\n",
              "      <td>0</td>\n",
              "      <td>0</td>\n",
              "      <td>False</td>\n",
              "      <td>Short</td>\n",
              "      <td>All</td>\n",
              "      <td>0.376479</td>\n",
              "    </tr>\n",
              "  </tbody>\n",
              "</table>\n",
              "<p>202149 rows × 7 columns</p>\n",
              "</div>"
            ],
            "text/plain": [
              "                                                  comment  ...         1\n",
              "0       Yeah they better nerf amumu NOW, Im sick of th...  ...  0.738999\n",
              "1       the population matters, and it especially matt...  ...  0.418853\n",
              "2                  Exactly, the world most of us live in.  ...  0.354894\n",
              "3                       It's Chinese, it has to be cruel!  ...  0.368817\n",
              "4                           Stupid kids are job creators.  ...  0.655003\n",
              "...                                                   ...  ...       ...\n",
              "202144                                           Simples.  ...  0.376479\n",
              "202145  He's white and fighting for state's rights, th...  ...  0.648301\n",
              "202146                     Blatant cultural appropriation  ...  0.376479\n",
              "202147  With Britain First here, it's counterparts in ...  ...  0.430493\n",
              "202148                                      GERDEN FURDIE  ...  0.376479\n",
              "\n",
              "[202149 rows x 7 columns]"
            ]
          },
          "metadata": {},
          "execution_count": 221
        }
      ]
    },
    {
      "cell_type": "code",
      "metadata": {
        "id": "w8l5_PVsmFSR"
      },
      "source": [
        "result.to_csv(\"result.csv\")"
      ],
      "execution_count": null,
      "outputs": []
    },
    {
      "cell_type": "markdown",
      "metadata": {
        "id": "FXz1bE5essz3"
      },
      "source": [
        "# Inspecting Results of test data"
      ]
    },
    {
      "cell_type": "code",
      "metadata": {
        "id": "XnCNYd-IqKD9"
      },
      "source": [
        "from sklearn.metrics import confusion_matrix\n",
        "import matplotlib.pyplot as plt"
      ],
      "execution_count": null,
      "outputs": []
    },
    {
      "cell_type": "code",
      "metadata": {
        "id": "ELNBfK_Eqnqm"
      },
      "source": [
        "sub_pops = ['Special characters?','Comment length','caps']"
      ],
      "execution_count": null,
      "outputs": []
    },
    {
      "cell_type": "code",
      "metadata": {
        "id": "CYQK2PmYqwv1"
      },
      "source": [
        "train_data = pd.read_csv(\"TFIDF_appended_df.csv\")"
      ],
      "execution_count": null,
      "outputs": []
    },
    {
      "cell_type": "code",
      "metadata": {
        "colab": {
          "base_uri": "https://localhost:8080/",
          "height": 221
        },
        "id": "4kyNdX7Aq3Sy",
        "outputId": "472b78cd-051f-43c8-ed06-8ef6ff6cbf42"
      },
      "source": [
        "cm = pd.DataFrame(confusion_matrix(train_data['label'], train_data['Predicted label']))\n",
        "cm.columns = ['True Non Sarcastic','True Sarcastic']\n",
        "cm.index = ['Predicted Non Sarcastic','Predicted Sarcastic']\n",
        "ref = pd.DataFrame([['TN','FN'],['FP','TP']])\n",
        "display(cm),display(ref)"
      ],
      "execution_count": null,
      "outputs": [
        {
          "output_type": "display_data",
          "data": {
            "text/html": [
              "<div>\n",
              "<style scoped>\n",
              "    .dataframe tbody tr th:only-of-type {\n",
              "        vertical-align: middle;\n",
              "    }\n",
              "\n",
              "    .dataframe tbody tr th {\n",
              "        vertical-align: top;\n",
              "    }\n",
              "\n",
              "    .dataframe thead th {\n",
              "        text-align: right;\n",
              "    }\n",
              "</style>\n",
              "<table border=\"1\" class=\"dataframe\">\n",
              "  <thead>\n",
              "    <tr style=\"text-align: right;\">\n",
              "      <th></th>\n",
              "      <th>True Non Sarcastic</th>\n",
              "      <th>True Sarcastic</th>\n",
              "    </tr>\n",
              "  </thead>\n",
              "  <tbody>\n",
              "    <tr>\n",
              "      <th>Predicted Non Sarcastic</th>\n",
              "      <td>72528</td>\n",
              "      <td>28305</td>\n",
              "    </tr>\n",
              "    <tr>\n",
              "      <th>Predicted Sarcastic</th>\n",
              "      <td>42278</td>\n",
              "      <td>59038</td>\n",
              "    </tr>\n",
              "  </tbody>\n",
              "</table>\n",
              "</div>"
            ],
            "text/plain": [
              "                         True Non Sarcastic  True Sarcastic\n",
              "Predicted Non Sarcastic               72528           28305\n",
              "Predicted Sarcastic                   42278           59038"
            ]
          },
          "metadata": {}
        },
        {
          "output_type": "display_data",
          "data": {
            "text/html": [
              "<div>\n",
              "<style scoped>\n",
              "    .dataframe tbody tr th:only-of-type {\n",
              "        vertical-align: middle;\n",
              "    }\n",
              "\n",
              "    .dataframe tbody tr th {\n",
              "        vertical-align: top;\n",
              "    }\n",
              "\n",
              "    .dataframe thead th {\n",
              "        text-align: right;\n",
              "    }\n",
              "</style>\n",
              "<table border=\"1\" class=\"dataframe\">\n",
              "  <thead>\n",
              "    <tr style=\"text-align: right;\">\n",
              "      <th></th>\n",
              "      <th>0</th>\n",
              "      <th>1</th>\n",
              "    </tr>\n",
              "  </thead>\n",
              "  <tbody>\n",
              "    <tr>\n",
              "      <th>0</th>\n",
              "      <td>TN</td>\n",
              "      <td>FN</td>\n",
              "    </tr>\n",
              "    <tr>\n",
              "      <th>1</th>\n",
              "      <td>FP</td>\n",
              "      <td>TP</td>\n",
              "    </tr>\n",
              "  </tbody>\n",
              "</table>\n",
              "</div>"
            ],
            "text/plain": [
              "    0   1\n",
              "0  TN  FN\n",
              "1  FP  TP"
            ]
          },
          "metadata": {}
        },
        {
          "output_type": "execute_result",
          "data": {
            "text/plain": [
              "(None, None)"
            ]
          },
          "metadata": {},
          "execution_count": 234
        }
      ]
    },
    {
      "cell_type": "markdown",
      "metadata": {
        "id": "TkX6XZEbswtb"
      },
      "source": [
        "## True Positives"
      ]
    },
    {
      "cell_type": "markdown",
      "metadata": {
        "id": "6RZuBhI6_1IM"
      },
      "source": [
        ""
      ]
    },
    {
      "cell_type": "code",
      "metadata": {
        "id": "OzgWTIQaq6-E"
      },
      "source": [
        "tp_frame = train_data[(train_data['label'] == 1) & (train_data['Predicted label'] ==1)]"
      ],
      "execution_count": null,
      "outputs": []
    },
    {
      "cell_type": "code",
      "metadata": {
        "colab": {
          "base_uri": "https://localhost:8080/"
        },
        "id": "uSQklr9Pq7Fq",
        "outputId": "d2831dd4-f1c6-42d6-d5f6-f471a0c1917f"
      },
      "source": [
        "for subpop in sub_pops :\n",
        "  print(tp_frame[subpop].value_counts())\n",
        "  print('\\n')"
      ],
      "execution_count": null,
      "outputs": [
        {
          "output_type": "stream",
          "name": "stdout",
          "text": [
            "False    38939\n",
            "True     20099\n",
            "Name: Special characters?, dtype: int64\n",
            "\n",
            "\n",
            "Long         17955\n",
            "Medium       15488\n",
            "Very Long    14925\n",
            "Short        10670\n",
            "Name: Comment length, dtype: int64\n",
            "\n",
            "\n",
            "50th    17276\n",
            "75th    14343\n",
            "25th    12422\n",
            "All     10296\n",
            "None     4701\n",
            "Name: caps, dtype: int64\n",
            "\n",
            "\n"
          ]
        }
      ]
    },
    {
      "cell_type": "markdown",
      "metadata": {
        "id": "rr8CsQfFs1V-"
      },
      "source": [
        "## True Negatives"
      ]
    },
    {
      "cell_type": "code",
      "metadata": {
        "id": "7ITPIZxcsJmj"
      },
      "source": [
        "tn_frame = train_data[(train_data['label'] == 0) & (train_data['Predicted label'] ==0)]"
      ],
      "execution_count": null,
      "outputs": []
    },
    {
      "cell_type": "code",
      "metadata": {
        "colab": {
          "base_uri": "https://localhost:8080/"
        },
        "id": "Cg4-_yGmsMRQ",
        "outputId": "997f5b4f-9dcc-4592-b0db-e09ec052ad3f"
      },
      "source": [
        "for subpop in sub_pops :\n",
        "  print(tn_frame[subpop].value_counts())\n",
        "  print('\\n')"
      ],
      "execution_count": null,
      "outputs": [
        {
          "output_type": "stream",
          "name": "stdout",
          "text": [
            "False    48083\n",
            "True     24445\n",
            "Name: Special characters?, dtype: int64\n",
            "\n",
            "\n",
            "Short        25038\n",
            "Very Long    16192\n",
            "Medium       15923\n",
            "Long         15375\n",
            "Name: Comment length, dtype: int64\n",
            "\n",
            "\n",
            "All     20494\n",
            "75th    18427\n",
            "50th    16284\n",
            "25th     9911\n",
            "None     7412\n",
            "Name: caps, dtype: int64\n",
            "\n",
            "\n"
          ]
        }
      ]
    },
    {
      "cell_type": "markdown",
      "metadata": {
        "id": "Ewcckd2Js4qp"
      },
      "source": [
        "## False Positives"
      ]
    },
    {
      "cell_type": "code",
      "metadata": {
        "id": "PmeTGCmCsQzQ"
      },
      "source": [
        "fp_frame = train_data[(train_data['label'] == 0) & (train_data['Predicted label'] ==1)]"
      ],
      "execution_count": null,
      "outputs": []
    },
    {
      "cell_type": "code",
      "metadata": {
        "colab": {
          "base_uri": "https://localhost:8080/",
          "height": 1000
        },
        "id": "fMNlpTbWsR6J",
        "outputId": "0b507601-5982-460a-f975-2a6be5507a18"
      },
      "source": [
        "fp_frame"
      ],
      "execution_count": null,
      "outputs": [
        {
          "output_type": "execute_result",
          "data": {
            "text/html": [
              "<div>\n",
              "<style scoped>\n",
              "    .dataframe tbody tr th:only-of-type {\n",
              "        vertical-align: middle;\n",
              "    }\n",
              "\n",
              "    .dataframe tbody tr th {\n",
              "        vertical-align: top;\n",
              "    }\n",
              "\n",
              "    .dataframe thead th {\n",
              "        text-align: right;\n",
              "    }\n",
              "</style>\n",
              "<table border=\"1\" class=\"dataframe\">\n",
              "  <thead>\n",
              "    <tr style=\"text-align: right;\">\n",
              "      <th></th>\n",
              "      <th>Unnamed: 0</th>\n",
              "      <th>comment</th>\n",
              "      <th>Predicted label</th>\n",
              "      <th>label</th>\n",
              "      <th>Special characters?</th>\n",
              "      <th>Comment length</th>\n",
              "      <th>caps</th>\n",
              "      <th>1</th>\n",
              "      <th>Unnamed: 8</th>\n",
              "    </tr>\n",
              "  </thead>\n",
              "  <tbody>\n",
              "    <tr>\n",
              "      <th>4</th>\n",
              "      <td>4</td>\n",
              "      <td>Stupid kids are job creators.</td>\n",
              "      <td>1</td>\n",
              "      <td>0</td>\n",
              "      <td>False</td>\n",
              "      <td>Short</td>\n",
              "      <td>75th</td>\n",
              "      <td>0.655003</td>\n",
              "      <td>1</td>\n",
              "    </tr>\n",
              "    <tr>\n",
              "      <th>9</th>\n",
              "      <td>9</td>\n",
              "      <td>They only list eChecks as a payment method for...</td>\n",
              "      <td>1</td>\n",
              "      <td>0</td>\n",
              "      <td>True</td>\n",
              "      <td>Very Long</td>\n",
              "      <td>75th</td>\n",
              "      <td>0.574514</td>\n",
              "      <td>1</td>\n",
              "    </tr>\n",
              "    <tr>\n",
              "      <th>17</th>\n",
              "      <td>17</td>\n",
              "      <td>So you're saying your sockpuppet script forgot...</td>\n",
              "      <td>1</td>\n",
              "      <td>0</td>\n",
              "      <td>True</td>\n",
              "      <td>Long</td>\n",
              "      <td>25th</td>\n",
              "      <td>0.771245</td>\n",
              "      <td>1</td>\n",
              "    </tr>\n",
              "    <tr>\n",
              "      <th>25</th>\n",
              "      <td>25</td>\n",
              "      <td>Maybe the confused it as an appeal to authorit...</td>\n",
              "      <td>1</td>\n",
              "      <td>0</td>\n",
              "      <td>True</td>\n",
              "      <td>Very Long</td>\n",
              "      <td>25th</td>\n",
              "      <td>0.844491</td>\n",
              "      <td>1</td>\n",
              "    </tr>\n",
              "    <tr>\n",
              "      <th>26</th>\n",
              "      <td>26</td>\n",
              "      <td>Okay, I'm from Europe so I've not much of an i...</td>\n",
              "      <td>1</td>\n",
              "      <td>0</td>\n",
              "      <td>False</td>\n",
              "      <td>Very Long</td>\n",
              "      <td>75th</td>\n",
              "      <td>0.549248</td>\n",
              "      <td>1</td>\n",
              "    </tr>\n",
              "    <tr>\n",
              "      <th>...</th>\n",
              "      <td>...</td>\n",
              "      <td>...</td>\n",
              "      <td>...</td>\n",
              "      <td>...</td>\n",
              "      <td>...</td>\n",
              "      <td>...</td>\n",
              "      <td>...</td>\n",
              "      <td>...</td>\n",
              "      <td>...</td>\n",
              "    </tr>\n",
              "    <tr>\n",
              "      <th>202103</th>\n",
              "      <td>202103</td>\n",
              "      <td>To show that Macbooks aren't the only option.</td>\n",
              "      <td>1</td>\n",
              "      <td>0</td>\n",
              "      <td>False</td>\n",
              "      <td>Medium</td>\n",
              "      <td>75th</td>\n",
              "      <td>0.547178</td>\n",
              "      <td>1</td>\n",
              "    </tr>\n",
              "    <tr>\n",
              "      <th>202135</th>\n",
              "      <td>202135</td>\n",
              "      <td>Maybe you should use the tab closer so you don...</td>\n",
              "      <td>1</td>\n",
              "      <td>0</td>\n",
              "      <td>False</td>\n",
              "      <td>Long</td>\n",
              "      <td>25th</td>\n",
              "      <td>0.741310</td>\n",
              "      <td>1</td>\n",
              "    </tr>\n",
              "    <tr>\n",
              "      <th>202139</th>\n",
              "      <td>202139</td>\n",
              "      <td>Fuck you for not even giving the hawks a chanc...</td>\n",
              "      <td>1</td>\n",
              "      <td>0</td>\n",
              "      <td>True</td>\n",
              "      <td>Very Long</td>\n",
              "      <td>50th</td>\n",
              "      <td>0.522808</td>\n",
              "      <td>1</td>\n",
              "    </tr>\n",
              "    <tr>\n",
              "      <th>202140</th>\n",
              "      <td>202140</td>\n",
              "      <td>peasants have the brain of a goldfish, they co...</td>\n",
              "      <td>1</td>\n",
              "      <td>0</td>\n",
              "      <td>False</td>\n",
              "      <td>Very Long</td>\n",
              "      <td>None</td>\n",
              "      <td>0.510763</td>\n",
              "      <td>1</td>\n",
              "    </tr>\n",
              "    <tr>\n",
              "      <th>202141</th>\n",
              "      <td>202141</td>\n",
              "      <td>Whichever region ends 5 is going to get rekt b...</td>\n",
              "      <td>1</td>\n",
              "      <td>0</td>\n",
              "      <td>False</td>\n",
              "      <td>Very Long</td>\n",
              "      <td>25th</td>\n",
              "      <td>0.712831</td>\n",
              "      <td>1</td>\n",
              "    </tr>\n",
              "  </tbody>\n",
              "</table>\n",
              "<p>28305 rows × 9 columns</p>\n",
              "</div>"
            ],
            "text/plain": [
              "        Unnamed: 0  ... Unnamed: 8\n",
              "4                4  ...          1\n",
              "9                9  ...          1\n",
              "17              17  ...          1\n",
              "25              25  ...          1\n",
              "26              26  ...          1\n",
              "...            ...  ...        ...\n",
              "202103      202103  ...          1\n",
              "202135      202135  ...          1\n",
              "202139      202139  ...          1\n",
              "202140      202140  ...          1\n",
              "202141      202141  ...          1\n",
              "\n",
              "[28305 rows x 9 columns]"
            ]
          },
          "metadata": {},
          "execution_count": 240
        }
      ]
    },
    {
      "cell_type": "code",
      "metadata": {
        "colab": {
          "base_uri": "https://localhost:8080/"
        },
        "id": "BJaPduX8sV7O",
        "outputId": "f3567f86-540a-480b-9966-f08e7ba27417"
      },
      "source": [
        "for subpop in sub_pops :\n",
        "  print(fp_frame[subpop].value_counts())\n",
        "  print('\\n')"
      ],
      "execution_count": null,
      "outputs": [
        {
          "output_type": "stream",
          "name": "stdout",
          "text": [
            "False    19044\n",
            "True      9261\n",
            "Name: Special characters?, dtype: int64\n",
            "\n",
            "\n",
            "Very Long    8067\n",
            "Long         7161\n",
            "Medium       6638\n",
            "Short        6439\n",
            "Name: Comment length, dtype: int64\n",
            "\n",
            "\n",
            "50th    7467\n",
            "75th    7132\n",
            "All     6020\n",
            "25th    5389\n",
            "None    2297\n",
            "Name: caps, dtype: int64\n",
            "\n",
            "\n"
          ]
        }
      ]
    },
    {
      "cell_type": "markdown",
      "metadata": {
        "id": "89rOjJBUs8tR"
      },
      "source": [
        "## False Negatives"
      ]
    },
    {
      "cell_type": "code",
      "metadata": {
        "id": "rSsDjpHMsYfK"
      },
      "source": [
        "fn_frame = train_data[(train_data['label'] == 1) & (train_data['Predicted label'] ==0)]"
      ],
      "execution_count": null,
      "outputs": []
    },
    {
      "cell_type": "code",
      "metadata": {
        "colab": {
          "base_uri": "https://localhost:8080/"
        },
        "id": "FL5rJqnSsZrQ",
        "outputId": "4462efb5-9398-471f-e257-5249f93cf496"
      },
      "source": [
        "for subpop in sub_pops :\n",
        "  print(fn_frame[subpop].value_counts())\n",
        "  print('\\n')"
      ],
      "execution_count": null,
      "outputs": [
        {
          "output_type": "stream",
          "name": "stdout",
          "text": [
            "False    27286\n",
            "True     14992\n",
            "Name: Special characters?, dtype: int64\n",
            "\n",
            "\n",
            "Short        13745\n",
            "Medium       11070\n",
            "Long         10411\n",
            "Very Long     7052\n",
            "Name: Comment length, dtype: int64\n",
            "\n",
            "\n",
            "All     11357\n",
            "75th    10893\n",
            "50th    10586\n",
            "25th     5447\n",
            "None     3995\n",
            "Name: caps, dtype: int64\n",
            "\n",
            "\n"
          ]
        }
      ]
    }
  ]
}